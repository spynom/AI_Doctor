{
 "cells": [
  {
   "metadata": {},
   "cell_type": "markdown",
   "source": "# Important Libraries",
   "id": "b70884a443c32b3e"
  },
  {
   "cell_type": "code",
   "id": "initial_id",
   "metadata": {
    "collapsed": true,
    "ExecuteTime": {
     "end_time": "2024-11-16T09:49:09.973991Z",
     "start_time": "2024-11-16T09:49:09.795511Z"
    }
   },
   "source": [
    "from bs4 import BeautifulSoup\n",
    "import requests"
   ],
   "outputs": [],
   "execution_count": 2
  },
  {
   "metadata": {},
   "cell_type": "markdown",
   "source": "# test",
   "id": "2f3e93883f288b99"
  },
  {
   "metadata": {
    "ExecuteTime": {
     "end_time": "2024-11-16T09:49:45.726779Z",
     "start_time": "2024-11-16T09:49:45.722875Z"
    }
   },
   "cell_type": "code",
   "source": "url = \"https://www.everydayhealth.com/abdominal-pain/guide/#q-as\"",
   "id": "876b5b379e6245a0",
   "outputs": [],
   "execution_count": 3
  },
  {
   "metadata": {
    "ExecuteTime": {
     "end_time": "2024-11-16T09:50:32.033367Z",
     "start_time": "2024-11-16T09:50:31.518237Z"
    }
   },
   "cell_type": "code",
   "source": [
    "response = requests.get(url)\n",
    "if response.status_code == 200:\n",
    "    HTML = BeautifulSoup(response.text, 'html.parser')\n",
    "else:\n",
    "    raise Exception(\"Status code {}\".format(response.status_code))"
   ],
   "id": "7eaf7f06d9175081",
   "outputs": [],
   "execution_count": 4
  },
  {
   "metadata": {
    "ExecuteTime": {
     "end_time": "2024-11-16T10:23:19.832047Z",
     "start_time": "2024-11-16T10:23:19.827072Z"
    }
   },
   "cell_type": "code",
   "source": [
    "html1 =HTML.find(\"article\",class_=\"eh-template eh-template--article eh-template--rails eh-template--right-rail eh-template--left-rail\")\n",
    "print(html1 is not None)"
   ],
   "id": "ef1ed5de6efb7e",
   "outputs": [
    {
     "name": "stdout",
     "output_type": "stream",
     "text": [
      "True\n"
     ]
    }
   ],
   "execution_count": 7
  },
  {
   "metadata": {
    "ExecuteTime": {
     "end_time": "2024-11-16T10:27:11.060022Z",
     "start_time": "2024-11-16T10:27:11.053188Z"
    }
   },
   "cell_type": "code",
   "source": [
    "(html1.find(\"div\",class_=\"eh-template__top\").find(\"div\",class_=\"subheader-label eh-pg-headline__subheader\").text,\n",
    " html1.find(\"div\",class_=\"eh-template__top\").find(\"h1\",class_=\"eh-pg-headline__title\").text)"
   ],
   "id": "7da090492df62626",
   "outputs": [
    {
     "data": {
      "text/plain": [
       "('Abdominal Pain',\n",
       " 'What Is Abdominal Pain? Symptoms, Causes, Diagnosis, Treatment, and Prevention')"
      ]
     },
     "execution_count": 14,
     "metadata": {},
     "output_type": "execute_result"
    }
   ],
   "execution_count": 14
  },
  {
   "metadata": {
    "ExecuteTime": {
     "end_time": "2024-11-16T10:30:46.302409Z",
     "start_time": "2024-11-16T10:30:46.295677Z"
    }
   },
   "cell_type": "code",
   "source": [
    "html2 = html1.find(\"div\",class_=\"eh-template__body\")\n",
    "print(html2 is not None)"
   ],
   "id": "9426756aaeb62ee6",
   "outputs": [
    {
     "name": "stdout",
     "output_type": "stream",
     "text": [
      "True\n"
     ]
    }
   ],
   "execution_count": 18
  },
  {
   "metadata": {
    "ExecuteTime": {
     "end_time": "2024-11-16T10:32:39.360142Z",
     "start_time": "2024-11-16T10:32:39.355171Z"
    }
   },
   "cell_type": "code",
   "source": [
    "contexts = html2.findAll(\"div\",class_=\"eh-widget eh-widget--cb\")\n",
    "print(bool(contexts))"
   ],
   "id": "5e0904a5904b45c0",
   "outputs": [
    {
     "name": "stdout",
     "output_type": "stream",
     "text": [
      "True\n"
     ]
    }
   ],
   "execution_count": 21
  },
  {
   "metadata": {
    "ExecuteTime": {
     "end_time": "2024-11-16T10:33:51.754581Z",
     "start_time": "2024-11-16T10:33:51.750889Z"
    }
   },
   "cell_type": "code",
   "source": "contexts [0].text",
   "id": "2497c8e86b3b5e4b",
   "outputs": [
    {
     "data": {
      "text/plain": [
       "'Most people experience abdominal discomfort or pain at some point in their lives. Abdominal pain (sometimes called stomachache or bellyache) is usually felt in the part of the trunk below the ribs, above the pelvis and the groin. It can range in intensity from a mild ache to severe, disabling pain.While abdominal pain isn’t normal, it isn’t necessarily serious, and it often resolves itself.But certain forms of abdominal pain may indicate a serious health condition, so it’s important to recognize the signs that may indicate you have an underlying problem requiring medical attention.[1]'"
      ]
     },
     "execution_count": 23,
     "metadata": {},
     "output_type": "execute_result"
    }
   ],
   "execution_count": 23
  },
  {
   "metadata": {
    "ExecuteTime": {
     "end_time": "2024-11-16T10:36:46.852058Z",
     "start_time": "2024-11-16T10:36:46.846669Z"
    }
   },
   "cell_type": "code",
   "source": "[ link.get(\"href\") for link in contexts [1].findAll(\"a\") if link.get(\"href\").startswith(\"https://www.everydayhealth.com\") ]",
   "id": "d85cc480f647875c",
   "outputs": [
    {
     "data": {
      "text/plain": [
       "['https://www.everydayhealth.com/appendicitis/guide/appendix/']"
      ]
     },
     "execution_count": 28,
     "metadata": {},
     "output_type": "execute_result"
    }
   ],
   "execution_count": 28
  },
  {
   "metadata": {
    "ExecuteTime": {
     "end_time": "2024-11-16T11:08:17.908437Z",
     "start_time": "2024-11-16T11:08:17.905141Z"
    }
   },
   "cell_type": "code",
   "source": "import json",
   "id": "dae437b873f4960",
   "outputs": [],
   "execution_count": 42
  },
  {
   "metadata": {
    "ExecuteTime": {
     "end_time": "2024-11-16T11:03:41.780479Z",
     "start_time": "2024-11-16T11:03:41.769465Z"
    }
   },
   "cell_type": "code",
   "source": "import re",
   "id": "f303b536ac1434ab",
   "outputs": [],
   "execution_count": 33
  },
  {
   "metadata": {},
   "cell_type": "code",
   "outputs": [],
   "execution_count": null,
   "source": "re.sub",
   "id": "e5223305b0da8c00"
  },
  {
   "metadata": {
    "ExecuteTime": {
     "end_time": "2024-11-16T11:07:16.800455Z",
     "start_time": "2024-11-16T11:07:16.782235Z"
    }
   },
   "cell_type": "code",
   "source": "re.sub(\"[^a-zA-Z/d ]\",\"\",\"heloo, mrs.\")",
   "id": "3449c45b880af925",
   "outputs": [
    {
     "data": {
      "text/plain": [
       "'heloo mrs'"
      ]
     },
     "execution_count": 39,
     "metadata": {},
     "output_type": "execute_result"
    }
   ],
   "execution_count": 39
  },
  {
   "metadata": {
    "ExecuteTime": {
     "end_time": "2024-11-16T11:22:11.158272Z",
     "start_time": "2024-11-16T11:22:11.148853Z"
    }
   },
   "cell_type": "code",
   "source": "import time",
   "id": "2ebdb7e3e7048468",
   "outputs": [],
   "execution_count": 50
  },
  {
   "metadata": {
    "ExecuteTime": {
     "end_time": "2024-11-16T11:27:25.811990Z",
     "start_time": "2024-11-16T11:27:25.805558Z"
    }
   },
   "cell_type": "code",
   "source": [
    "skip_urls = []\n",
    "fetched_urls = []\n",
    "def get_documents(urls:list,skipped_url = skip_urls,fetched_urls=fetched_urls)->None:\n",
    "    \n",
    "    links = []\n",
    "    for url in urls:\n",
    "        if url in fetched_urls:\n",
    "            continue\n",
    "        \n",
    "        else:\n",
    "            fetched_urls.append(url)\n",
    "        \n",
    "        time.sleep(1)\n",
    "        response = requests.get(url)\n",
    "        \n",
    "        if response.status_code == 200:\n",
    "            HTML = BeautifulSoup(response.text, 'html.parser')\n",
    "        else:\n",
    "            raise Exception(\"Status code {}\".format(response.status_code))\n",
    "        \n",
    "        html1 =HTML.find(\"article\",class_=\"eh-template eh-template--article eh-template--rails eh-template--right-rail eh-template--left-rail\")\n",
    "        \n",
    "        if html1 is None:\n",
    "            skip_urls.append(url)\n",
    "            continue\n",
    "        \n",
    "        try:\n",
    "            category_ = html1.find(\"div\",class_=\"eh-template__top\").find(\"div\",class_=\"subheader-label eh-pg-headline__subheader\").text\n",
    "        except:\n",
    "            category_ = \"\"\n",
    "        try:\n",
    "            head = html1.find(\"div\",class_=\"eh-template__top\").find(\"h1\",class_=\"eh-pg-headline__title\").text\n",
    "        except:\n",
    "            continue\n",
    "        \n",
    "        html2 = html1.find(\"div\",class_=\"eh-template__body\")\n",
    "        if html2 is None:\n",
    "            skip_urls.append(url)\n",
    "            continue\n",
    "            \n",
    "        contexts = html2.findAll(\"div\",class_=\"eh-widget eh-widget--cb\")\n",
    "        if not contexts:\n",
    "            skip_urls.append(url)\n",
    "            continue\n",
    "        \n",
    "        documents = []\n",
    "        \n",
    "        for context in contexts:\n",
    "            documents.append(\n",
    "                {\n",
    "                    \"url\":url,\n",
    "                    \"category\":category_,\n",
    "                    \"head\":head,\n",
    "                    \"context\":context.text\n",
    "                }\n",
    "            )\n",
    "            \n",
    "            links.extend([ link.get(\"href\") for link in context.findAll(\"a\") if link.get(\"href\").startswith(\"https://www.everydayhealth.com\") ])\n",
    "            \n",
    "        \n",
    "        \n",
    "        with open(f'../data/{re.sub(\"[^a-zA-Z/d ]\",\"\",head).replace(\" \",\"_\")}.json',\"w\") as f:\n",
    "            json.dump(documents,f)\n",
    "        \n",
    "        del documents,html2,html1\n",
    "        \n",
    "    if links:\n",
    "        skipped_url.extend( get_documents(links,skip_urls,fetched_urls) )\n",
    "        \n",
    "        return skip_urls\n",
    "            \n",
    "\n",
    "        "
   ],
   "id": "6d3408e72b2a6b94",
   "outputs": [],
   "execution_count": 54
  },
  {
   "metadata": {
    "ExecuteTime": {
     "end_time": "2024-11-16T12:31:12.595235Z",
     "start_time": "2024-11-16T11:27:29.329621Z"
    }
   },
   "cell_type": "code",
   "source": "get_documents(['https://www.everydayhealth.com/appendicitis/guide/appendix/'])",
   "id": "99bc7ddb6af3c6ef",
   "outputs": [
    {
     "ename": "KeyboardInterrupt",
     "evalue": "",
     "output_type": "error",
     "traceback": [
      "\u001B[0;31m---------------------------------------------------------------------------\u001B[0m",
      "\u001B[0;31mKeyboardInterrupt\u001B[0m                         Traceback (most recent call last)",
      "Cell \u001B[0;32mIn[55], line 1\u001B[0m\n\u001B[0;32m----> 1\u001B[0m \u001B[43mget_documents\u001B[49m\u001B[43m(\u001B[49m\u001B[43m[\u001B[49m\u001B[38;5;124;43m'\u001B[39;49m\u001B[38;5;124;43mhttps://www.everydayhealth.com/appendicitis/guide/appendix/\u001B[39;49m\u001B[38;5;124;43m'\u001B[39;49m\u001B[43m]\u001B[49m\u001B[43m)\u001B[49m\n",
      "Cell \u001B[0;32mIn[54], line 68\u001B[0m, in \u001B[0;36mget_documents\u001B[0;34m(urls, skipped_url, fetched_urls)\u001B[0m\n\u001B[1;32m     65\u001B[0m     \u001B[38;5;28;01mdel\u001B[39;00m documents,html2,html1\n\u001B[1;32m     67\u001B[0m \u001B[38;5;28;01mif\u001B[39;00m links:\n\u001B[0;32m---> 68\u001B[0m     skipped_url\u001B[38;5;241m.\u001B[39mextend( \u001B[43mget_documents\u001B[49m\u001B[43m(\u001B[49m\u001B[43mlinks\u001B[49m\u001B[43m,\u001B[49m\u001B[43mskip_urls\u001B[49m\u001B[43m,\u001B[49m\u001B[43mfetched_urls\u001B[49m\u001B[43m)\u001B[49m )\n\u001B[1;32m     70\u001B[0m     \u001B[38;5;28;01mreturn\u001B[39;00m skip_urls\n",
      "Cell \u001B[0;32mIn[54], line 68\u001B[0m, in \u001B[0;36mget_documents\u001B[0;34m(urls, skipped_url, fetched_urls)\u001B[0m\n\u001B[1;32m     65\u001B[0m     \u001B[38;5;28;01mdel\u001B[39;00m documents,html2,html1\n\u001B[1;32m     67\u001B[0m \u001B[38;5;28;01mif\u001B[39;00m links:\n\u001B[0;32m---> 68\u001B[0m     skipped_url\u001B[38;5;241m.\u001B[39mextend( \u001B[43mget_documents\u001B[49m\u001B[43m(\u001B[49m\u001B[43mlinks\u001B[49m\u001B[43m,\u001B[49m\u001B[43mskip_urls\u001B[49m\u001B[43m,\u001B[49m\u001B[43mfetched_urls\u001B[49m\u001B[43m)\u001B[49m )\n\u001B[1;32m     70\u001B[0m     \u001B[38;5;28;01mreturn\u001B[39;00m skip_urls\n",
      "    \u001B[0;31m[... skipping similar frames: get_documents at line 68 (1 times)]\u001B[0m\n",
      "Cell \u001B[0;32mIn[54], line 68\u001B[0m, in \u001B[0;36mget_documents\u001B[0;34m(urls, skipped_url, fetched_urls)\u001B[0m\n\u001B[1;32m     65\u001B[0m     \u001B[38;5;28;01mdel\u001B[39;00m documents,html2,html1\n\u001B[1;32m     67\u001B[0m \u001B[38;5;28;01mif\u001B[39;00m links:\n\u001B[0;32m---> 68\u001B[0m     skipped_url\u001B[38;5;241m.\u001B[39mextend( \u001B[43mget_documents\u001B[49m\u001B[43m(\u001B[49m\u001B[43mlinks\u001B[49m\u001B[43m,\u001B[49m\u001B[43mskip_urls\u001B[49m\u001B[43m,\u001B[49m\u001B[43mfetched_urls\u001B[49m\u001B[43m)\u001B[49m )\n\u001B[1;32m     70\u001B[0m     \u001B[38;5;28;01mreturn\u001B[39;00m skip_urls\n",
      "Cell \u001B[0;32mIn[54], line 14\u001B[0m, in \u001B[0;36mget_documents\u001B[0;34m(urls, skipped_url, fetched_urls)\u001B[0m\n\u001B[1;32m     11\u001B[0m     fetched_urls\u001B[38;5;241m.\u001B[39mappend(url)\n\u001B[1;32m     13\u001B[0m time\u001B[38;5;241m.\u001B[39msleep(\u001B[38;5;241m1\u001B[39m)\n\u001B[0;32m---> 14\u001B[0m response \u001B[38;5;241m=\u001B[39m \u001B[43mrequests\u001B[49m\u001B[38;5;241;43m.\u001B[39;49m\u001B[43mget\u001B[49m\u001B[43m(\u001B[49m\u001B[43murl\u001B[49m\u001B[43m)\u001B[49m\n\u001B[1;32m     16\u001B[0m \u001B[38;5;28;01mif\u001B[39;00m response\u001B[38;5;241m.\u001B[39mstatus_code \u001B[38;5;241m==\u001B[39m \u001B[38;5;241m200\u001B[39m:\n\u001B[1;32m     17\u001B[0m     HTML \u001B[38;5;241m=\u001B[39m BeautifulSoup(response\u001B[38;5;241m.\u001B[39mtext, \u001B[38;5;124m'\u001B[39m\u001B[38;5;124mhtml.parser\u001B[39m\u001B[38;5;124m'\u001B[39m)\n",
      "File \u001B[0;32m~/generative_ai/langchain/venv/lib/python3.10/site-packages/requests/api.py:73\u001B[0m, in \u001B[0;36mget\u001B[0;34m(url, params, **kwargs)\u001B[0m\n\u001B[1;32m     62\u001B[0m \u001B[38;5;28;01mdef\u001B[39;00m \u001B[38;5;21mget\u001B[39m(url, params\u001B[38;5;241m=\u001B[39m\u001B[38;5;28;01mNone\u001B[39;00m, \u001B[38;5;241m*\u001B[39m\u001B[38;5;241m*\u001B[39mkwargs):\n\u001B[1;32m     63\u001B[0m \u001B[38;5;250m    \u001B[39m\u001B[38;5;124mr\u001B[39m\u001B[38;5;124;03m\"\"\"Sends a GET request.\u001B[39;00m\n\u001B[1;32m     64\u001B[0m \n\u001B[1;32m     65\u001B[0m \u001B[38;5;124;03m    :param url: URL for the new :class:`Request` object.\u001B[39;00m\n\u001B[0;32m   (...)\u001B[0m\n\u001B[1;32m     70\u001B[0m \u001B[38;5;124;03m    :rtype: requests.Response\u001B[39;00m\n\u001B[1;32m     71\u001B[0m \u001B[38;5;124;03m    \"\"\"\u001B[39;00m\n\u001B[0;32m---> 73\u001B[0m     \u001B[38;5;28;01mreturn\u001B[39;00m \u001B[43mrequest\u001B[49m\u001B[43m(\u001B[49m\u001B[38;5;124;43m\"\u001B[39;49m\u001B[38;5;124;43mget\u001B[39;49m\u001B[38;5;124;43m\"\u001B[39;49m\u001B[43m,\u001B[49m\u001B[43m \u001B[49m\u001B[43murl\u001B[49m\u001B[43m,\u001B[49m\u001B[43m \u001B[49m\u001B[43mparams\u001B[49m\u001B[38;5;241;43m=\u001B[39;49m\u001B[43mparams\u001B[49m\u001B[43m,\u001B[49m\u001B[43m \u001B[49m\u001B[38;5;241;43m*\u001B[39;49m\u001B[38;5;241;43m*\u001B[39;49m\u001B[43mkwargs\u001B[49m\u001B[43m)\u001B[49m\n",
      "File \u001B[0;32m~/generative_ai/langchain/venv/lib/python3.10/site-packages/requests/api.py:59\u001B[0m, in \u001B[0;36mrequest\u001B[0;34m(method, url, **kwargs)\u001B[0m\n\u001B[1;32m     55\u001B[0m \u001B[38;5;66;03m# By using the 'with' statement we are sure the session is closed, thus we\u001B[39;00m\n\u001B[1;32m     56\u001B[0m \u001B[38;5;66;03m# avoid leaving sockets open which can trigger a ResourceWarning in some\u001B[39;00m\n\u001B[1;32m     57\u001B[0m \u001B[38;5;66;03m# cases, and look like a memory leak in others.\u001B[39;00m\n\u001B[1;32m     58\u001B[0m \u001B[38;5;28;01mwith\u001B[39;00m sessions\u001B[38;5;241m.\u001B[39mSession() \u001B[38;5;28;01mas\u001B[39;00m session:\n\u001B[0;32m---> 59\u001B[0m     \u001B[38;5;28;01mreturn\u001B[39;00m \u001B[43msession\u001B[49m\u001B[38;5;241;43m.\u001B[39;49m\u001B[43mrequest\u001B[49m\u001B[43m(\u001B[49m\u001B[43mmethod\u001B[49m\u001B[38;5;241;43m=\u001B[39;49m\u001B[43mmethod\u001B[49m\u001B[43m,\u001B[49m\u001B[43m \u001B[49m\u001B[43murl\u001B[49m\u001B[38;5;241;43m=\u001B[39;49m\u001B[43murl\u001B[49m\u001B[43m,\u001B[49m\u001B[43m \u001B[49m\u001B[38;5;241;43m*\u001B[39;49m\u001B[38;5;241;43m*\u001B[39;49m\u001B[43mkwargs\u001B[49m\u001B[43m)\u001B[49m\n",
      "File \u001B[0;32m~/generative_ai/langchain/venv/lib/python3.10/site-packages/requests/sessions.py:589\u001B[0m, in \u001B[0;36mSession.request\u001B[0;34m(self, method, url, params, data, headers, cookies, files, auth, timeout, allow_redirects, proxies, hooks, stream, verify, cert, json)\u001B[0m\n\u001B[1;32m    584\u001B[0m send_kwargs \u001B[38;5;241m=\u001B[39m {\n\u001B[1;32m    585\u001B[0m     \u001B[38;5;124m\"\u001B[39m\u001B[38;5;124mtimeout\u001B[39m\u001B[38;5;124m\"\u001B[39m: timeout,\n\u001B[1;32m    586\u001B[0m     \u001B[38;5;124m\"\u001B[39m\u001B[38;5;124mallow_redirects\u001B[39m\u001B[38;5;124m\"\u001B[39m: allow_redirects,\n\u001B[1;32m    587\u001B[0m }\n\u001B[1;32m    588\u001B[0m send_kwargs\u001B[38;5;241m.\u001B[39mupdate(settings)\n\u001B[0;32m--> 589\u001B[0m resp \u001B[38;5;241m=\u001B[39m \u001B[38;5;28;43mself\u001B[39;49m\u001B[38;5;241;43m.\u001B[39;49m\u001B[43msend\u001B[49m\u001B[43m(\u001B[49m\u001B[43mprep\u001B[49m\u001B[43m,\u001B[49m\u001B[43m \u001B[49m\u001B[38;5;241;43m*\u001B[39;49m\u001B[38;5;241;43m*\u001B[39;49m\u001B[43msend_kwargs\u001B[49m\u001B[43m)\u001B[49m\n\u001B[1;32m    591\u001B[0m \u001B[38;5;28;01mreturn\u001B[39;00m resp\n",
      "File \u001B[0;32m~/generative_ai/langchain/venv/lib/python3.10/site-packages/requests/sessions.py:703\u001B[0m, in \u001B[0;36mSession.send\u001B[0;34m(self, request, **kwargs)\u001B[0m\n\u001B[1;32m    700\u001B[0m start \u001B[38;5;241m=\u001B[39m preferred_clock()\n\u001B[1;32m    702\u001B[0m \u001B[38;5;66;03m# Send the request\u001B[39;00m\n\u001B[0;32m--> 703\u001B[0m r \u001B[38;5;241m=\u001B[39m \u001B[43madapter\u001B[49m\u001B[38;5;241;43m.\u001B[39;49m\u001B[43msend\u001B[49m\u001B[43m(\u001B[49m\u001B[43mrequest\u001B[49m\u001B[43m,\u001B[49m\u001B[43m \u001B[49m\u001B[38;5;241;43m*\u001B[39;49m\u001B[38;5;241;43m*\u001B[39;49m\u001B[43mkwargs\u001B[49m\u001B[43m)\u001B[49m\n\u001B[1;32m    705\u001B[0m \u001B[38;5;66;03m# Total elapsed time of the request (approximately)\u001B[39;00m\n\u001B[1;32m    706\u001B[0m elapsed \u001B[38;5;241m=\u001B[39m preferred_clock() \u001B[38;5;241m-\u001B[39m start\n",
      "File \u001B[0;32m~/generative_ai/langchain/venv/lib/python3.10/site-packages/requests/adapters.py:667\u001B[0m, in \u001B[0;36mHTTPAdapter.send\u001B[0;34m(self, request, stream, timeout, verify, cert, proxies)\u001B[0m\n\u001B[1;32m    664\u001B[0m     timeout \u001B[38;5;241m=\u001B[39m TimeoutSauce(connect\u001B[38;5;241m=\u001B[39mtimeout, read\u001B[38;5;241m=\u001B[39mtimeout)\n\u001B[1;32m    666\u001B[0m \u001B[38;5;28;01mtry\u001B[39;00m:\n\u001B[0;32m--> 667\u001B[0m     resp \u001B[38;5;241m=\u001B[39m \u001B[43mconn\u001B[49m\u001B[38;5;241;43m.\u001B[39;49m\u001B[43murlopen\u001B[49m\u001B[43m(\u001B[49m\n\u001B[1;32m    668\u001B[0m \u001B[43m        \u001B[49m\u001B[43mmethod\u001B[49m\u001B[38;5;241;43m=\u001B[39;49m\u001B[43mrequest\u001B[49m\u001B[38;5;241;43m.\u001B[39;49m\u001B[43mmethod\u001B[49m\u001B[43m,\u001B[49m\n\u001B[1;32m    669\u001B[0m \u001B[43m        \u001B[49m\u001B[43murl\u001B[49m\u001B[38;5;241;43m=\u001B[39;49m\u001B[43murl\u001B[49m\u001B[43m,\u001B[49m\n\u001B[1;32m    670\u001B[0m \u001B[43m        \u001B[49m\u001B[43mbody\u001B[49m\u001B[38;5;241;43m=\u001B[39;49m\u001B[43mrequest\u001B[49m\u001B[38;5;241;43m.\u001B[39;49m\u001B[43mbody\u001B[49m\u001B[43m,\u001B[49m\n\u001B[1;32m    671\u001B[0m \u001B[43m        \u001B[49m\u001B[43mheaders\u001B[49m\u001B[38;5;241;43m=\u001B[39;49m\u001B[43mrequest\u001B[49m\u001B[38;5;241;43m.\u001B[39;49m\u001B[43mheaders\u001B[49m\u001B[43m,\u001B[49m\n\u001B[1;32m    672\u001B[0m \u001B[43m        \u001B[49m\u001B[43mredirect\u001B[49m\u001B[38;5;241;43m=\u001B[39;49m\u001B[38;5;28;43;01mFalse\u001B[39;49;00m\u001B[43m,\u001B[49m\n\u001B[1;32m    673\u001B[0m \u001B[43m        \u001B[49m\u001B[43massert_same_host\u001B[49m\u001B[38;5;241;43m=\u001B[39;49m\u001B[38;5;28;43;01mFalse\u001B[39;49;00m\u001B[43m,\u001B[49m\n\u001B[1;32m    674\u001B[0m \u001B[43m        \u001B[49m\u001B[43mpreload_content\u001B[49m\u001B[38;5;241;43m=\u001B[39;49m\u001B[38;5;28;43;01mFalse\u001B[39;49;00m\u001B[43m,\u001B[49m\n\u001B[1;32m    675\u001B[0m \u001B[43m        \u001B[49m\u001B[43mdecode_content\u001B[49m\u001B[38;5;241;43m=\u001B[39;49m\u001B[38;5;28;43;01mFalse\u001B[39;49;00m\u001B[43m,\u001B[49m\n\u001B[1;32m    676\u001B[0m \u001B[43m        \u001B[49m\u001B[43mretries\u001B[49m\u001B[38;5;241;43m=\u001B[39;49m\u001B[38;5;28;43mself\u001B[39;49m\u001B[38;5;241;43m.\u001B[39;49m\u001B[43mmax_retries\u001B[49m\u001B[43m,\u001B[49m\n\u001B[1;32m    677\u001B[0m \u001B[43m        \u001B[49m\u001B[43mtimeout\u001B[49m\u001B[38;5;241;43m=\u001B[39;49m\u001B[43mtimeout\u001B[49m\u001B[43m,\u001B[49m\n\u001B[1;32m    678\u001B[0m \u001B[43m        \u001B[49m\u001B[43mchunked\u001B[49m\u001B[38;5;241;43m=\u001B[39;49m\u001B[43mchunked\u001B[49m\u001B[43m,\u001B[49m\n\u001B[1;32m    679\u001B[0m \u001B[43m    \u001B[49m\u001B[43m)\u001B[49m\n\u001B[1;32m    681\u001B[0m \u001B[38;5;28;01mexcept\u001B[39;00m (ProtocolError, \u001B[38;5;167;01mOSError\u001B[39;00m) \u001B[38;5;28;01mas\u001B[39;00m err:\n\u001B[1;32m    682\u001B[0m     \u001B[38;5;28;01mraise\u001B[39;00m \u001B[38;5;167;01mConnectionError\u001B[39;00m(err, request\u001B[38;5;241m=\u001B[39mrequest)\n",
      "File \u001B[0;32m~/generative_ai/langchain/venv/lib/python3.10/site-packages/urllib3/connectionpool.py:789\u001B[0m, in \u001B[0;36mHTTPConnectionPool.urlopen\u001B[0;34m(self, method, url, body, headers, retries, redirect, assert_same_host, timeout, pool_timeout, release_conn, chunked, body_pos, preload_content, decode_content, **response_kw)\u001B[0m\n\u001B[1;32m    786\u001B[0m response_conn \u001B[38;5;241m=\u001B[39m conn \u001B[38;5;28;01mif\u001B[39;00m \u001B[38;5;129;01mnot\u001B[39;00m release_conn \u001B[38;5;28;01melse\u001B[39;00m \u001B[38;5;28;01mNone\u001B[39;00m\n\u001B[1;32m    788\u001B[0m \u001B[38;5;66;03m# Make the request on the HTTPConnection object\u001B[39;00m\n\u001B[0;32m--> 789\u001B[0m response \u001B[38;5;241m=\u001B[39m \u001B[38;5;28;43mself\u001B[39;49m\u001B[38;5;241;43m.\u001B[39;49m\u001B[43m_make_request\u001B[49m\u001B[43m(\u001B[49m\n\u001B[1;32m    790\u001B[0m \u001B[43m    \u001B[49m\u001B[43mconn\u001B[49m\u001B[43m,\u001B[49m\n\u001B[1;32m    791\u001B[0m \u001B[43m    \u001B[49m\u001B[43mmethod\u001B[49m\u001B[43m,\u001B[49m\n\u001B[1;32m    792\u001B[0m \u001B[43m    \u001B[49m\u001B[43murl\u001B[49m\u001B[43m,\u001B[49m\n\u001B[1;32m    793\u001B[0m \u001B[43m    \u001B[49m\u001B[43mtimeout\u001B[49m\u001B[38;5;241;43m=\u001B[39;49m\u001B[43mtimeout_obj\u001B[49m\u001B[43m,\u001B[49m\n\u001B[1;32m    794\u001B[0m \u001B[43m    \u001B[49m\u001B[43mbody\u001B[49m\u001B[38;5;241;43m=\u001B[39;49m\u001B[43mbody\u001B[49m\u001B[43m,\u001B[49m\n\u001B[1;32m    795\u001B[0m \u001B[43m    \u001B[49m\u001B[43mheaders\u001B[49m\u001B[38;5;241;43m=\u001B[39;49m\u001B[43mheaders\u001B[49m\u001B[43m,\u001B[49m\n\u001B[1;32m    796\u001B[0m \u001B[43m    \u001B[49m\u001B[43mchunked\u001B[49m\u001B[38;5;241;43m=\u001B[39;49m\u001B[43mchunked\u001B[49m\u001B[43m,\u001B[49m\n\u001B[1;32m    797\u001B[0m \u001B[43m    \u001B[49m\u001B[43mretries\u001B[49m\u001B[38;5;241;43m=\u001B[39;49m\u001B[43mretries\u001B[49m\u001B[43m,\u001B[49m\n\u001B[1;32m    798\u001B[0m \u001B[43m    \u001B[49m\u001B[43mresponse_conn\u001B[49m\u001B[38;5;241;43m=\u001B[39;49m\u001B[43mresponse_conn\u001B[49m\u001B[43m,\u001B[49m\n\u001B[1;32m    799\u001B[0m \u001B[43m    \u001B[49m\u001B[43mpreload_content\u001B[49m\u001B[38;5;241;43m=\u001B[39;49m\u001B[43mpreload_content\u001B[49m\u001B[43m,\u001B[49m\n\u001B[1;32m    800\u001B[0m \u001B[43m    \u001B[49m\u001B[43mdecode_content\u001B[49m\u001B[38;5;241;43m=\u001B[39;49m\u001B[43mdecode_content\u001B[49m\u001B[43m,\u001B[49m\n\u001B[1;32m    801\u001B[0m \u001B[43m    \u001B[49m\u001B[38;5;241;43m*\u001B[39;49m\u001B[38;5;241;43m*\u001B[39;49m\u001B[43mresponse_kw\u001B[49m\u001B[43m,\u001B[49m\n\u001B[1;32m    802\u001B[0m \u001B[43m\u001B[49m\u001B[43m)\u001B[49m\n\u001B[1;32m    804\u001B[0m \u001B[38;5;66;03m# Everything went great!\u001B[39;00m\n\u001B[1;32m    805\u001B[0m clean_exit \u001B[38;5;241m=\u001B[39m \u001B[38;5;28;01mTrue\u001B[39;00m\n",
      "File \u001B[0;32m~/generative_ai/langchain/venv/lib/python3.10/site-packages/urllib3/connectionpool.py:536\u001B[0m, in \u001B[0;36mHTTPConnectionPool._make_request\u001B[0;34m(self, conn, method, url, body, headers, retries, timeout, chunked, response_conn, preload_content, decode_content, enforce_content_length)\u001B[0m\n\u001B[1;32m    534\u001B[0m \u001B[38;5;66;03m# Receive the response from the server\u001B[39;00m\n\u001B[1;32m    535\u001B[0m \u001B[38;5;28;01mtry\u001B[39;00m:\n\u001B[0;32m--> 536\u001B[0m     response \u001B[38;5;241m=\u001B[39m \u001B[43mconn\u001B[49m\u001B[38;5;241;43m.\u001B[39;49m\u001B[43mgetresponse\u001B[49m\u001B[43m(\u001B[49m\u001B[43m)\u001B[49m\n\u001B[1;32m    537\u001B[0m \u001B[38;5;28;01mexcept\u001B[39;00m (BaseSSLError, \u001B[38;5;167;01mOSError\u001B[39;00m) \u001B[38;5;28;01mas\u001B[39;00m e:\n\u001B[1;32m    538\u001B[0m     \u001B[38;5;28mself\u001B[39m\u001B[38;5;241m.\u001B[39m_raise_timeout(err\u001B[38;5;241m=\u001B[39me, url\u001B[38;5;241m=\u001B[39murl, timeout_value\u001B[38;5;241m=\u001B[39mread_timeout)\n",
      "File \u001B[0;32m~/generative_ai/langchain/venv/lib/python3.10/site-packages/urllib3/connection.py:507\u001B[0m, in \u001B[0;36mHTTPConnection.getresponse\u001B[0;34m(self)\u001B[0m\n\u001B[1;32m    504\u001B[0m \u001B[38;5;28;01mfrom\u001B[39;00m \u001B[38;5;21;01m.\u001B[39;00m\u001B[38;5;21;01mresponse\u001B[39;00m \u001B[38;5;28;01mimport\u001B[39;00m HTTPResponse\n\u001B[1;32m    506\u001B[0m \u001B[38;5;66;03m# Get the response from http.client.HTTPConnection\u001B[39;00m\n\u001B[0;32m--> 507\u001B[0m httplib_response \u001B[38;5;241m=\u001B[39m \u001B[38;5;28;43msuper\u001B[39;49m\u001B[43m(\u001B[49m\u001B[43m)\u001B[49m\u001B[38;5;241;43m.\u001B[39;49m\u001B[43mgetresponse\u001B[49m\u001B[43m(\u001B[49m\u001B[43m)\u001B[49m\n\u001B[1;32m    509\u001B[0m \u001B[38;5;28;01mtry\u001B[39;00m:\n\u001B[1;32m    510\u001B[0m     assert_header_parsing(httplib_response\u001B[38;5;241m.\u001B[39mmsg)\n",
      "File \u001B[0;32m/usr/lib/python3.10/http/client.py:1375\u001B[0m, in \u001B[0;36mHTTPConnection.getresponse\u001B[0;34m(self)\u001B[0m\n\u001B[1;32m   1373\u001B[0m \u001B[38;5;28;01mtry\u001B[39;00m:\n\u001B[1;32m   1374\u001B[0m     \u001B[38;5;28;01mtry\u001B[39;00m:\n\u001B[0;32m-> 1375\u001B[0m         \u001B[43mresponse\u001B[49m\u001B[38;5;241;43m.\u001B[39;49m\u001B[43mbegin\u001B[49m\u001B[43m(\u001B[49m\u001B[43m)\u001B[49m\n\u001B[1;32m   1376\u001B[0m     \u001B[38;5;28;01mexcept\u001B[39;00m \u001B[38;5;167;01mConnectionError\u001B[39;00m:\n\u001B[1;32m   1377\u001B[0m         \u001B[38;5;28mself\u001B[39m\u001B[38;5;241m.\u001B[39mclose()\n",
      "File \u001B[0;32m/usr/lib/python3.10/http/client.py:318\u001B[0m, in \u001B[0;36mHTTPResponse.begin\u001B[0;34m(self)\u001B[0m\n\u001B[1;32m    316\u001B[0m \u001B[38;5;66;03m# read until we get a non-100 response\u001B[39;00m\n\u001B[1;32m    317\u001B[0m \u001B[38;5;28;01mwhile\u001B[39;00m \u001B[38;5;28;01mTrue\u001B[39;00m:\n\u001B[0;32m--> 318\u001B[0m     version, status, reason \u001B[38;5;241m=\u001B[39m \u001B[38;5;28;43mself\u001B[39;49m\u001B[38;5;241;43m.\u001B[39;49m\u001B[43m_read_status\u001B[49m\u001B[43m(\u001B[49m\u001B[43m)\u001B[49m\n\u001B[1;32m    319\u001B[0m     \u001B[38;5;28;01mif\u001B[39;00m status \u001B[38;5;241m!=\u001B[39m CONTINUE:\n\u001B[1;32m    320\u001B[0m         \u001B[38;5;28;01mbreak\u001B[39;00m\n",
      "File \u001B[0;32m/usr/lib/python3.10/http/client.py:279\u001B[0m, in \u001B[0;36mHTTPResponse._read_status\u001B[0;34m(self)\u001B[0m\n\u001B[1;32m    278\u001B[0m \u001B[38;5;28;01mdef\u001B[39;00m \u001B[38;5;21m_read_status\u001B[39m(\u001B[38;5;28mself\u001B[39m):\n\u001B[0;32m--> 279\u001B[0m     line \u001B[38;5;241m=\u001B[39m \u001B[38;5;28mstr\u001B[39m(\u001B[38;5;28;43mself\u001B[39;49m\u001B[38;5;241;43m.\u001B[39;49m\u001B[43mfp\u001B[49m\u001B[38;5;241;43m.\u001B[39;49m\u001B[43mreadline\u001B[49m\u001B[43m(\u001B[49m\u001B[43m_MAXLINE\u001B[49m\u001B[43m \u001B[49m\u001B[38;5;241;43m+\u001B[39;49m\u001B[43m \u001B[49m\u001B[38;5;241;43m1\u001B[39;49m\u001B[43m)\u001B[49m, \u001B[38;5;124m\"\u001B[39m\u001B[38;5;124miso-8859-1\u001B[39m\u001B[38;5;124m\"\u001B[39m)\n\u001B[1;32m    280\u001B[0m     \u001B[38;5;28;01mif\u001B[39;00m \u001B[38;5;28mlen\u001B[39m(line) \u001B[38;5;241m>\u001B[39m _MAXLINE:\n\u001B[1;32m    281\u001B[0m         \u001B[38;5;28;01mraise\u001B[39;00m LineTooLong(\u001B[38;5;124m\"\u001B[39m\u001B[38;5;124mstatus line\u001B[39m\u001B[38;5;124m\"\u001B[39m)\n",
      "File \u001B[0;32m/usr/lib/python3.10/socket.py:705\u001B[0m, in \u001B[0;36mSocketIO.readinto\u001B[0;34m(self, b)\u001B[0m\n\u001B[1;32m    703\u001B[0m \u001B[38;5;28;01mwhile\u001B[39;00m \u001B[38;5;28;01mTrue\u001B[39;00m:\n\u001B[1;32m    704\u001B[0m     \u001B[38;5;28;01mtry\u001B[39;00m:\n\u001B[0;32m--> 705\u001B[0m         \u001B[38;5;28;01mreturn\u001B[39;00m \u001B[38;5;28;43mself\u001B[39;49m\u001B[38;5;241;43m.\u001B[39;49m\u001B[43m_sock\u001B[49m\u001B[38;5;241;43m.\u001B[39;49m\u001B[43mrecv_into\u001B[49m\u001B[43m(\u001B[49m\u001B[43mb\u001B[49m\u001B[43m)\u001B[49m\n\u001B[1;32m    706\u001B[0m     \u001B[38;5;28;01mexcept\u001B[39;00m timeout:\n\u001B[1;32m    707\u001B[0m         \u001B[38;5;28mself\u001B[39m\u001B[38;5;241m.\u001B[39m_timeout_occurred \u001B[38;5;241m=\u001B[39m \u001B[38;5;28;01mTrue\u001B[39;00m\n",
      "File \u001B[0;32m/usr/lib/python3.10/ssl.py:1303\u001B[0m, in \u001B[0;36mSSLSocket.recv_into\u001B[0;34m(self, buffer, nbytes, flags)\u001B[0m\n\u001B[1;32m   1299\u001B[0m     \u001B[38;5;28;01mif\u001B[39;00m flags \u001B[38;5;241m!=\u001B[39m \u001B[38;5;241m0\u001B[39m:\n\u001B[1;32m   1300\u001B[0m         \u001B[38;5;28;01mraise\u001B[39;00m \u001B[38;5;167;01mValueError\u001B[39;00m(\n\u001B[1;32m   1301\u001B[0m           \u001B[38;5;124m\"\u001B[39m\u001B[38;5;124mnon-zero flags not allowed in calls to recv_into() on \u001B[39m\u001B[38;5;132;01m%s\u001B[39;00m\u001B[38;5;124m\"\u001B[39m \u001B[38;5;241m%\u001B[39m\n\u001B[1;32m   1302\u001B[0m           \u001B[38;5;28mself\u001B[39m\u001B[38;5;241m.\u001B[39m\u001B[38;5;18m__class__\u001B[39m)\n\u001B[0;32m-> 1303\u001B[0m     \u001B[38;5;28;01mreturn\u001B[39;00m \u001B[38;5;28;43mself\u001B[39;49m\u001B[38;5;241;43m.\u001B[39;49m\u001B[43mread\u001B[49m\u001B[43m(\u001B[49m\u001B[43mnbytes\u001B[49m\u001B[43m,\u001B[49m\u001B[43m \u001B[49m\u001B[43mbuffer\u001B[49m\u001B[43m)\u001B[49m\n\u001B[1;32m   1304\u001B[0m \u001B[38;5;28;01melse\u001B[39;00m:\n\u001B[1;32m   1305\u001B[0m     \u001B[38;5;28;01mreturn\u001B[39;00m \u001B[38;5;28msuper\u001B[39m()\u001B[38;5;241m.\u001B[39mrecv_into(buffer, nbytes, flags)\n",
      "File \u001B[0;32m/usr/lib/python3.10/ssl.py:1159\u001B[0m, in \u001B[0;36mSSLSocket.read\u001B[0;34m(self, len, buffer)\u001B[0m\n\u001B[1;32m   1157\u001B[0m \u001B[38;5;28;01mtry\u001B[39;00m:\n\u001B[1;32m   1158\u001B[0m     \u001B[38;5;28;01mif\u001B[39;00m buffer \u001B[38;5;129;01mis\u001B[39;00m \u001B[38;5;129;01mnot\u001B[39;00m \u001B[38;5;28;01mNone\u001B[39;00m:\n\u001B[0;32m-> 1159\u001B[0m         \u001B[38;5;28;01mreturn\u001B[39;00m \u001B[38;5;28;43mself\u001B[39;49m\u001B[38;5;241;43m.\u001B[39;49m\u001B[43m_sslobj\u001B[49m\u001B[38;5;241;43m.\u001B[39;49m\u001B[43mread\u001B[49m\u001B[43m(\u001B[49m\u001B[38;5;28;43mlen\u001B[39;49m\u001B[43m,\u001B[49m\u001B[43m \u001B[49m\u001B[43mbuffer\u001B[49m\u001B[43m)\u001B[49m\n\u001B[1;32m   1160\u001B[0m     \u001B[38;5;28;01melse\u001B[39;00m:\n\u001B[1;32m   1161\u001B[0m         \u001B[38;5;28;01mreturn\u001B[39;00m \u001B[38;5;28mself\u001B[39m\u001B[38;5;241m.\u001B[39m_sslobj\u001B[38;5;241m.\u001B[39mread(\u001B[38;5;28mlen\u001B[39m)\n",
      "\u001B[0;31mKeyboardInterrupt\u001B[0m: "
     ]
    }
   ],
   "execution_count": 55
  },
  {
   "metadata": {
    "ExecuteTime": {
     "end_time": "2024-11-16T12:37:39.687212Z",
     "start_time": "2024-11-16T12:37:39.680779Z"
    }
   },
   "cell_type": "code",
   "source": "len(skip_urls)",
   "id": "31de54d6064ba5a",
   "outputs": [
    {
     "data": {
      "text/plain": [
       "590"
      ]
     },
     "execution_count": 57,
     "metadata": {},
     "output_type": "execute_result"
    }
   ],
   "execution_count": 57
  },
  {
   "metadata": {
    "ExecuteTime": {
     "end_time": "2024-11-16T12:38:28.554453Z",
     "start_time": "2024-11-16T12:38:28.540898Z"
    }
   },
   "cell_type": "code",
   "source": [
    "import os\n",
    "documents = os.listdir('../data')"
   ],
   "id": "eb97dcc5c97f0d8c",
   "outputs": [],
   "execution_count": 59
  },
  {
   "metadata": {
    "ExecuteTime": {
     "end_time": "2024-11-16T12:38:42.090332Z",
     "start_time": "2024-11-16T12:38:42.070631Z"
    }
   },
   "cell_type": "code",
   "source": "len(documents)",
   "id": "35e694f4443e6e01",
   "outputs": [
    {
     "data": {
      "text/plain": [
       "608"
      ]
     },
     "execution_count": 60,
     "metadata": {},
     "output_type": "execute_result"
    }
   ],
   "execution_count": 60
  },
  {
   "metadata": {
    "ExecuteTime": {
     "end_time": "2024-11-16T12:39:51.994340Z",
     "start_time": "2024-11-16T12:39:51.980026Z"
    }
   },
   "cell_type": "code",
   "source": "skip_urls",
   "id": "e883ad5a82c22aee",
   "outputs": [
    {
     "data": {
      "text/plain": [
       "['https://www.everydayhealth.com/digestive-health/common-digestive-conditions-from-top-bottom/',\n",
       " 'https://www.everydayhealth.com/digestive-health-pictures/icky-but-interesting-facts-about-poop.aspx',\n",
       " 'https://www.everydayhealth.com/copd/',\n",
       " 'https://www.everydayhealth.com/drugs/aspirin',\n",
       " 'https://www.everydayhealth.com/drugs/ibuprofen',\n",
       " 'https://www.everydayhealth.com/drugs/naproxen',\n",
       " 'https://www.everydayhealth.com/biopsy/guide/',\n",
       " 'https://www.everydayhealth.com/proton-pump-inhibitors/guide/',\n",
       " 'https://www.everydayhealth.com/drugs/nexium',\n",
       " 'https://www.everydayhealth.com/drugs/prevacid',\n",
       " 'https://www.everydayhealth.com/drugs/prilosec',\n",
       " 'https://www.everydayhealth.com/drugs/pantoprazole',\n",
       " 'https://www.everydayhealth.com/drugs/aciphex',\n",
       " 'https://www.everydayhealth.com/drugs/cimetidine',\n",
       " 'https://www.everydayhealth.com/drugs/pepcid',\n",
       " 'https://www.everydayhealth.com/drugs/nizatidine',\n",
       " 'https://www.everydayhealth.com/blood-transfusion/guide/',\n",
       " 'https://www.everydayhealth.com/ibs/soluble-vs-insoluble-fiber-for-ibs.aspx',\n",
       " 'https://www.everydayhealth.com/drugs/oxycodone',\n",
       " 'https://www.everydayhealth.com/drugs/dilaudid',\n",
       " 'https://www.everydayhealth.com/healthy-living/fascinating-facts-about-body-temperature.aspx',\n",
       " 'https://www.everydayhealth.com/digestive-health/10-ways-get-rid-bloating/',\n",
       " 'https://www.everydayhealth.com/x-ray/guide/',\n",
       " 'https://www.everydayhealth.com/ct-scan/guide/',\n",
       " 'https://www.everydayhealth.com/mri/guide/',\n",
       " 'https://www.everydayhealth.com/diet-nutrition/knife-skills-how-to-cut-complicated-fruits-and-veggies/',\n",
       " 'https://www.everydayhealth.com/cold-flu/symptoms/symptoms-of-colds-vs-flu/',\n",
       " 'https://www.everydayhealth.com/drugs/azelastine-nasal',\n",
       " 'https://www.everydayhealth.com/drugs/montelukast',\n",
       " 'https://www.everydayhealth.com/drugs/episnap',\n",
       " 'https://www.everydayhealth.com/drugs/palforzia',\n",
       " 'https://www.everydayhealth.com/drugs/nasonex',\n",
       " 'https://www.everydayhealth.com/drugs/phenylephrine',\n",
       " 'https://www.everydayhealth.com/drugs/oxymetazoline-nasal',\n",
       " 'https://www.everydayhealth.com/drugs/guaifenesin-phenylephrine',\n",
       " 'https://www.everydayhealth.com/drugs/amoxicillin',\n",
       " 'https://www.everydayhealth.com/drugs/doxycycline',\n",
       " 'https://www.everydayhealth.com/drugs/clindamycin',\n",
       " 'https://www.everydayhealth.com/drugs/levaquin',\n",
       " 'https://www.everydayhealth.com/drugs/vigamox',\n",
       " 'https://www.everydayhealth.com/drugs/prednisone',\n",
       " 'https://www.everydayhealth.com/antibiotics/guide/',\n",
       " 'https://www.everydayhealth.com/drugs/tylenol',\n",
       " 'https://www.everydayhealth.com/cold-flu/everything-you-ever-wondered-about-mucus-and-phlegm.aspx',\n",
       " 'https://www.everydayhealth.com/drugs/ascorbic-acid',\n",
       " 'https://www.everydayhealth.com/infectious-diseases/rsv-in-adults-symptoms-diagnosis-treatment/',\n",
       " 'https://www.everydayhealth.com/autoimmune-diseases/all-articles/',\n",
       " 'https://www.everydayhealth.com/ibd/all-articles/',\n",
       " 'https://www.everydayhealth.com/osteoporosis/guide/symptoms/',\n",
       " 'https://www.everydayhealth.com/drugs/albuterol',\n",
       " 'https://www.everydayhealth.com/drugs/xopenex',\n",
       " 'https://www.everydayhealth.com/drugs/atrovent',\n",
       " 'https://www.everydayhealth.com/drugs/omalizumab',\n",
       " 'https://www.everydayhealth.com/drugs/mepolizumab',\n",
       " 'https://www.everydayhealth.com/drugs/reslizumab',\n",
       " 'https://www.everydayhealth.com/drugs/benralizumab',\n",
       " 'https://www.everydayhealth.com/asthma/what-a-severe-asthma-attack-looks-like/',\n",
       " 'https://www.everydayhealth.com/authors/quinn-phillips/',\n",
       " 'https://www.everydayhealth.com/authors/markham-heid/',\n",
       " 'https://www.everydayhealth.com/authors/sari-harrar/',\n",
       " 'https://www.everydayhealth.com/lupus/new-data-reveals-disparities-in-lupus-rates-particularly-for-bipoc-women/',\n",
       " 'https://www.everydayhealth.com/drugs/anifrolumab',\n",
       " 'https://www.everydayhealth.com/drugs/belimumab',\n",
       " 'https://www.everydayhealth.com/drugs/loperamide',\n",
       " 'https://www.everydayhealth.com/digestive-health/the-most-common-causes-of-food-poisoning.aspx',\n",
       " 'https://www.everydayhealth.com/e-coli/urinary-tract-infection/',\n",
       " 'https://www.everydayhealth.com/healthy-living/ways-to-keep-your-immune-system-healthy/',\n",
       " 'https://www.everydayhealth.com/digestive-health/simple-ways-to-improve-your-gut-microbiome-starting-today/',\n",
       " 'https://www.everydayhealth.com/appendicitis/guide/chronic/',\n",
       " 'https://www.everydayhealth.com/appendicitis/guide/antibiotics/',\n",
       " 'https://www.everydayhealth.com/digestive-health/surprising-causes-of-excessive-gas.aspx',\n",
       " 'https://www.everydayhealth.com/diet-and-nutrition/0406/why-you-should-go-nuts-for-nuts.aspx',\n",
       " 'https://www.everydayhealth.com/photogallery/fiber-rich-foods.aspx',\n",
       " 'https://www.everydayhealth.com/drugs/metronidazole',\n",
       " 'https://www.everydayhealth.com/drugs/bactrim',\n",
       " 'https://www.everydayhealth.com/drugs/ciprofloxacin',\n",
       " 'https://www.everydayhealth.com/drugs/augmentin',\n",
       " 'https://www.everydayhealth.com/drugs/acetaminophen-oral',\n",
       " 'https://www.everydayhealth.com/drugs/glutamine',\n",
       " 'https://www.everydayhealth.com/amino-acids/guide/',\n",
       " 'https://www.everydayhealth.com/digestive-health/gut-check-is-fish-oil-good-for-your-gut/',\n",
       " 'https://www.everydayhealth.com/inflammatory-bowel-disease/ibd-means-high-health-costs-patients/',\n",
       " 'https://www.everydayhealth.com/digestive-health/is-bloating-cause-for-concern/',\n",
       " 'https://www.everydayhealth.com/digestive-health/treatment-for-excessive-gas/',\n",
       " 'https://www.everydayhealth.com/ibs/cognitive-behavioral-therapy-ibs-symptoms/',\n",
       " 'https://www.everydayhealth.com/ibs/can-hypnotherapy-help-cure-irritable-bowel-syndrome/',\n",
       " 'https://www.everydayhealth.com/ibs/ibs-and-sex-life.aspx',\n",
       " 'https://www.everydayhealth.com/anxiety/anxiety-and-depression.aspx',\n",
       " 'https://www.everydayhealth.com/neurotransmitters/guide/',\n",
       " 'https://www.everydayhealth.com/digestive-health/diet/foods-to-avoid-during-digestive-problems/',\n",
       " 'https://www.everydayhealth.com/drugs/psyllium',\n",
       " 'https://www.everydayhealth.com/drugs/miralax',\n",
       " 'https://www.everydayhealth.com/drugs/colace',\n",
       " 'https://www.everydayhealth.com/drugs/amitiza',\n",
       " 'https://www.everydayhealth.com/drugs/linzess',\n",
       " 'https://www.everydayhealth.com/cold-and-flu/why-do-we-get-chills-with-a-fever/',\n",
       " 'https://www.everydayhealth.com/diet-and-nutrition/diet/tips-weight-loss-actually-work/',\n",
       " 'https://www.everydayhealth.com/drugs/zocor',\n",
       " 'https://www.everydayhealth.com/drugs/lipitor',\n",
       " 'https://www.everydayhealth.com/drugs/enalapril',\n",
       " 'https://www.everydayhealth.com/drugs/lisinopril',\n",
       " 'https://www.everydayhealth.com/sexual-health/birth-control/',\n",
       " 'https://www.everydayhealth.com/drugs/lasix',\n",
       " 'https://www.everydayhealth.com/drugs/hydrochlorothiazide',\n",
       " 'https://www.everydayhealth.com/drugs/lamivudine',\n",
       " 'https://www.everydayhealth.com/drugs/nelfinavir',\n",
       " 'https://www.everydayhealth.com/drugs/valproic-acid-oral-injection',\n",
       " 'https://www.everydayhealth.com/type-2-diabetes/diet/diabetes-african-americans-how-lower-your-risk/',\n",
       " 'https://www.everydayhealth.com/authors/carlene-bauer/',\n",
       " 'https://www.everydayhealth.com/pictures/reasons-your-period-might-painful/',\n",
       " 'https://www.everydayhealth.com/prostaglandins/guide/',\n",
       " 'https://www.everydayhealth.com/endometriosis/adenomyosis-symptoms-diagnosis-treatments/',\n",
       " 'https://www.everydayhealth.com/endorphins/guide/',\n",
       " 'https://www.everydayhealth.com/vaginal-health/guide/',\n",
       " 'https://www.everydayhealth.com/womens-health/which-iud-is-right-for-you/',\n",
       " 'https://www.everydayhealth.com/water-health/water-body-health.aspx',\n",
       " 'https://www.everydayhealth.com/diet-and-nutrition/diet/which-sugars-are-good-you-which-ones-avoid/',\n",
       " 'https://www.everydayhealth.com/endometriosis/severe-sex-pain-treatments/',\n",
       " 'https://www.everydayhealth.com/sciatica/myths-facts/',\n",
       " 'https://www.everydayhealth.com/endometriosis/does-low-testosterone-cause-endometriosis/',\n",
       " 'https://www.everydayhealth.com/endometriosis/types-and-stages-of-endometriosis/',\n",
       " 'https://www.everydayhealth.com/menopause/',\n",
       " 'https://www.everydayhealth.com/endometriosis/finding-endometriosis-expert-what-you-need-know/',\n",
       " 'https://www.everydayhealth.com/hs/womens-health/exercise-help-endometriosis/',\n",
       " 'https://www.everydayhealth.com/diet-nutrition/diet/scientific-health-benefits-turmeric-curcumin/',\n",
       " 'https://www.everydayhealth.com/endometriosis/what-is-deep-infiltrating-endometriosis-causes-symptoms-treatment-and-more/',\n",
       " 'https://www.everydayhealth.com/womens-health/making-pregnancy-possible-with-endometriosis.aspx',\n",
       " 'https://www.everydayhealth.com/fertility/miscarriage-pregnancy-loss-what-know/',\n",
       " 'https://www.everydayhealth.com/gynecologist/guide/',\n",
       " 'https://www.everydayhealth.com/hip-pain/five-common-causes-of-hip-pain-in-women.aspx',\n",
       " 'https://www.everydayhealth.com/ibd/the-consumers-guide-to-telehealth-for-ibd/',\n",
       " 'https://www.everydayhealth.com/crohns-disease/guide/complications/',\n",
       " 'https://www.everydayhealth.com/crohns-disease/symptoms/anatomy-of-a-crohns-flare/',\n",
       " 'https://www.everydayhealth.com/crohns-disease/diet/the-best-dairy-alternatives-for-crohns-disease/',\n",
       " 'https://www.everydayhealth.com/hs/crohns-disease-treatment-management/gut-soothing-foods/',\n",
       " 'https://www.everydayhealth.com/crohns-disease/diet/crohns-snacks-you-can-pack/',\n",
       " 'https://www.everydayhealth.com/crohns-disease/link-between-crohns-and-liver-disease/',\n",
       " 'https://www.everydayhealth.com/hs/crohns-disease-treatment-management/crohns-joint-pain/',\n",
       " 'https://www.everydayhealth.com/crohns-disease/symptoms/does-ibd-put-you-greater-risk-skin-cancer/',\n",
       " 'https://www.everydayhealth.com/crohns-disease/symptoms/can-crohns-disease-affect-your-eyes/',\n",
       " 'https://www.everydayhealth.com/crohns-disease/tips-for-a-successful-pregnancy-when-ibd/',\n",
       " 'https://www.everydayhealth.com/authors/jordan-m-davidson/',\n",
       " 'https://www.everydayhealth.com/ulcerative-colitis/symptoms/liver-conditions-linked-ulcerative-colitis/',\n",
       " 'https://www.everydayhealth.com/ulcerative-colitis/symptoms/warning-signs-of-colitis-emergency/',\n",
       " 'https://www.everydayhealth.com/diet-nutrition/top-10-worst-foods-you-should-give-up/',\n",
       " 'https://www.everydayhealth.com/crohns-disease/living-with/the-right-fats-for-crohns-nutrition/',\n",
       " 'https://www.everydayhealth.com/hs/ulcerative-colitis-treatment-management/ease-ulcerative-colitis-symptoms-during-flare/',\n",
       " 'https://www.everydayhealth.com/ulcerative-colitis/is-your-uc-stress-under-control/',\n",
       " 'https://www.everydayhealth.com/columns/my-health-story/why-it-is-important-for-people-with-ulcerative-colitis-to-get-the-covid-vaccine/',\n",
       " 'https://www.everydayhealth.com/urinary-tract-infections/can-men-get-urinary-tract-infections.aspx',\n",
       " 'https://www.everydayhealth.com/urinary-tract-infection/parents-guide-to-utis-in-children-symptoms-diagnosis-treatment-and-more/',\n",
       " 'https://www.everydayhealth.com/menopause/perimenopause-vs-menopause-look-difference/',\n",
       " 'https://www.everydayhealth.com/menopause/perimenopause-symptoms/',\n",
       " 'https://www.everydayhealth.com/urinary-tract-infections/the-link-between-utis-and-sex.aspx',\n",
       " 'https://www.everydayhealth.com/sexual-health/urinary-tract-infections-keep-coming-back.aspx',\n",
       " 'https://www.everydayhealth.com/antihistamine/guide/',\n",
       " 'https://www.everydayhealth.com/drugs/baclofen-oral',\n",
       " 'https://www.everydayhealth.com/gerd/can-you-drink-alcohol-if-you-have-gerd/',\n",
       " 'https://www.everydayhealth.com/stop-smoking-pictures/the-best-and-worst-ways-to-quit-smoking.aspx',\n",
       " 'https://www.everydayhealth.com/authors/mark-henricks/',\n",
       " 'https://www.everydayhealth.com/endometriosis/heavy-bleeding-bad-periods-causes/',\n",
       " 'https://www.everydayhealth.com/pregnancy/best-pregnancy-test/',\n",
       " 'https://www.everydayhealth.com/drugs/trexall',\n",
       " 'https://www.everydayhealth.com/gluten/guide/',\n",
       " 'https://www.everydayhealth.com/hs/exocrine-pancreatic-insufficiency/epi-another-condition/',\n",
       " 'https://www.everydayhealth.com/skin-and-beauty-photos/common-skin-rashes.aspx',\n",
       " 'https://www.everydayhealth.com/thyroid/guide/',\n",
       " 'https://www.everydayhealth.com/endoscopy/guide/',\n",
       " 'https://www.everydayhealth.com/drugs/vitamin-a-oral-injection',\n",
       " 'https://www.everydayhealth.com/drugs/vitamin-e',\n",
       " 'https://www.everydayhealth.com/drugs/vitamin-d',\n",
       " \"https://www.everydayhealth.com/drugs/nature's-bounty-hair-skin-and-nails\",\n",
       " 'https://www.everydayhealth.com/hs/psoriatic-arthritis-management-selector/fight-chronic-joint-pain/',\n",
       " 'https://www.everydayhealth.com/epinephrine/guide/',\n",
       " 'https://www.everydayhealth.com/diet-nutrition/diet/gluten-myths-facts-know/',\n",
       " 'https://www.everydayhealth.com/coronavirus/',\n",
       " 'https://www.everydayhealth.com/drugs/penicillin-g-benzathine',\n",
       " 'https://www.everydayhealth.com/strep-throat/how-treat-strep-throat/',\n",
       " 'https://www.everydayhealth.com/skin-and-beauty-photos/how-to-identify-common-bug-bites.aspx',\n",
       " 'https://www.everydayhealth.com/deep-vein-thrombosis/blood-clot-facts-doctors-want-you-know/',\n",
       " 'https://www.everydayhealth.com/urine/what-color-smell-your-urine-tell-you/',\n",
       " 'https://www.everydayhealth.com/diet-nutrition/things-drinking-alcohol-may-doing-your-body/',\n",
       " 'https://www.everydayhealth.com/drugs/rezdiffra',\n",
       " 'https://www.everydayhealth.com/drugs/lactulose',\n",
       " 'https://www.everydayhealth.com/drugs/xifaxan',\n",
       " 'https://www.everydayhealth.com/drugs/cholestyramine',\n",
       " 'https://www.everydayhealth.com/drugs/colesevelam',\n",
       " 'https://www.everydayhealth.com/drugs/naltrexone',\n",
       " 'https://www.everydayhealth.com/drugs/hepatitis-b-adult-vaccine',\n",
       " 'https://www.everydayhealth.com/high-cholesterol/symptoms/everything-you-always-wanted-know-about-cholesterol/',\n",
       " 'https://www.everydayhealth.com/coronavirus/#latest-news',\n",
       " 'https://www.everydayhealth.com/news/unusual-signs-of-dehydration/',\n",
       " 'https://www.everydayhealth.com/coronavirus/biggest-covid-vaccine-myths/',\n",
       " 'https://www.everydayhealth.com/lung-respiratory/all-articles/',\n",
       " 'https://www.everydayhealth.com/hs/type-2-diabetes-management/blood-sugar-uncontrolled-pictures/',\n",
       " 'https://www.everydayhealth.com/bladder-cancer/guide/',\n",
       " 'https://www.everydayhealth.com/drugs/torsemide',\n",
       " 'https://www.everydayhealth.com/drugs/hydrochlorothiazide-triamterene',\n",
       " 'https://www.everydayhealth.com/drugs/chlorthalidone',\n",
       " 'https://www.everydayhealth.com/drugs/aldactone',\n",
       " 'https://www.everydayhealth.com/drugs/hcg',\n",
       " 'https://www.everydayhealth.com/ace-inhibitors/guide/',\n",
       " 'https://www.everydayhealth.com/gallbladder/guide/symptoms/',\n",
       " 'https://www.everydayhealth.com/gallbladder/surgery-complications/',\n",
       " 'https://www.everydayhealth.com/heart-health/ahas-updated-heath-health-checklist-now-includes-sleep/',\n",
       " 'https://www.everydayhealth.com/sleep/ways-not-getting-enough-sleep-is-bad-for-your-health/',\n",
       " 'https://www.everydayhealth.com/psychiatrist/guide/',\n",
       " 'https://www.everydayhealth.com/depression/5-questions-doctors-ask-when-screening-for-depression.aspx',\n",
       " 'https://www.everydayhealth.com/emotional-health/when-and-how-to-use-988-mental-healths-new-emergency-hotline/',\n",
       " 'https://www.everydayhealth.com/news/10-surprising-facts-about-dizziness-vertigo/',\n",
       " 'https://www.everydayhealth.com/antidepressants/guide/',\n",
       " 'https://www.everydayhealth.com/drugs/ceftriaxone-injection',\n",
       " 'https://www.everydayhealth.com/drugs/cefepime',\n",
       " 'https://www.everydayhealth.com/drugs/fortaz',\n",
       " 'https://www.everydayhealth.com/drugs/vancomycin',\n",
       " 'https://www.everydayhealth.com/drugs/levofloxacin-oral',\n",
       " 'https://www.everydayhealth.com/drugs/decadron',\n",
       " 'https://www.everydayhealth.com/drugs/hydrocortisone',\n",
       " 'https://www.everydayhealth.com/drugs/pneumococcal-13-valent-conjugate-vaccine',\n",
       " 'https://www.everydayhealth.com/drugs/pneumococcal-polysaccharides-vaccine-ppsv-23-valent',\n",
       " 'https://www.everydayhealth.com/drugs/pneumococcal-20-valent-conjugate-vaccine',\n",
       " 'https://www.everydayhealth.com/drugs/dramamine',\n",
       " 'https://www.everydayhealth.com/drugs/meclizine',\n",
       " 'https://www.everydayhealth.com/drugs/vitamin-b6',\n",
       " 'https://www.everydayhealth.com/drugs/doxylamine',\n",
       " 'https://www.everydayhealth.com/diarrhea/tips-help-prevent-travelers-diarrhea/',\n",
       " 'https://www.everydayhealth.com/digestive-health/bland-foods-just-what-are-they/',\n",
       " 'https://www.everydayhealth.com/drugs/pepto-bismol',\n",
       " 'https://www.everydayhealth.com/diarrhea-management-photos/diarrhea-and-diet.aspx',\n",
       " 'https://www.everydayhealth.com/digestive-health/diet/what-to-eat-when-you-have-diarrhea/',\n",
       " 'https://www.everydayhealth.com/type-2-diabetes/how-exercise-helps-prevent-and-manage-type-2-diabetes/',\n",
       " 'https://www.everydayhealth.com/drugs/metformin',\n",
       " 'https://www.everydayhealth.com/weight/weight-loss-surgery-vs-medication-best-treatment-option-for-obesity/',\n",
       " 'https://www.everydayhealth.com/type-2-diabetes/treatment/ways-lower-your-a1c/',\n",
       " 'https://www.everydayhealth.com/type-2-diabetes/sleep-whats-the-connection/',\n",
       " 'https://www.everydayhealth.com/obesity/zepbound-reduces-diabetes-risk-in-overweight-people-at-high-risk/',\n",
       " 'https://www.everydayhealth.com/type-2-diabetes/symptoms/signs-of-low-blood-sugar/',\n",
       " 'https://www.everydayhealth.com/hiv-aids/staying-healthy-with-hiv.aspx#01',\n",
       " 'https://www.everydayhealth.com/hs/hiv-health/timeline-hiv-symptoms/',\n",
       " 'https://www.everydayhealth.com/drugs/cabotegravir-and-rilpivirine',\n",
       " 'https://www.everydayhealth.com/circumcision/guide/',\n",
       " 'https://www.everydayhealth.com/drugs/truvada',\n",
       " 'https://www.everydayhealth.com/drugs/descovy',\n",
       " 'https://www.everydayhealth.com/drugs/tenofovir',\n",
       " 'https://www.everydayhealth.com/drugs/cabotegravir',\n",
       " 'https://www.everydayhealth.com/hodgkin-lymphoma/treatment/',\n",
       " 'https://www.everydayhealth.com/anaphylaxis/symptoms-diagnosis/',\n",
       " 'https://www.everydayhealth.com/bug-bites/',\n",
       " 'https://www.everydayhealth.com/allergies/fda-approves-first-nasal-spray-for-severe-allergic-reactions/',\n",
       " 'https://www.everydayhealth.com/drugs/epinephrine',\n",
       " 'https://www.everydayhealth.com/heart-health/hands-only-cpr-increases-chance-of-survival-in-someone-having-cardiac-arrest/',\n",
       " 'https://www.everydayhealth.com/heart-health/things-you-should-know-about-cardiac-arrest/',\n",
       " 'https://www.everydayhealth.com/sleep-pictures/0708/8-cheap-and-natural-insomnia-remedies.aspx',\n",
       " 'https://www.everydayhealth.com/insomnia/consumers-guide-to-dual-orexin-receptor-antagonists-for-insomnia/',\n",
       " 'https://www.everydayhealth.com/insomnia/celebrities-who-struggle-with-sleep/',\n",
       " 'https://www.everydayhealth.com/sleep/light-sleepers-vs-heavy-sleepers.aspx',\n",
       " 'https://www.everydayhealth.com/sexual-health/seven-healthy-reasons-to-have-sex-right-now.aspx',\n",
       " 'https://www.everydayhealth.com/esophageal-cancer/progression-of-esophageal-cancer.aspx',\n",
       " 'https://www.everydayhealth.com/drugs/dupilumab#drug-overview',\n",
       " 'https://www.everydayhealth.com/digestive-health/fda-approves-first-oral-treatment-for-rare-swallowing-problem/',\n",
       " 'https://www.everydayhealth.com/digestive-health/common-food-triggers-for-eosinophilic-esophagitis/',\n",
       " 'https://www.everydayhealth.com/meditation/',\n",
       " 'https://www.everydayhealth.com/yoga/',\n",
       " 'https://www.everydayhealth.com/digestive-health/link-between-your-gut-microbiome-and-your-health/',\n",
       " 'https://www.everydayhealth.com/hs/asthma/eosinophilic-asthma-symptoms/',\n",
       " 'https://www.everydayhealth.com/drugs/amoxicillin#drug-overview/',\n",
       " 'https://www.everydayhealth.com/copd/slow-copd-progression/',\n",
       " 'https://www.everydayhealth.com/copd-awareness-guide/improve-breathing-with-copd.aspx',\n",
       " 'https://www.everydayhealth.com/cold-flu/top-congestion-fighters.aspx',\n",
       " 'https://www.everydayhealth.com/cold-flu/treatment/your-day-to-day-guide-to-the-common-cold/',\n",
       " 'https://www.everydayhealth.com/cold-and-flu-pictures/home-remedies-for-cough-1028.aspx',\n",
       " 'https://www.everydayhealth.com/flu/no-flu-shot-and-now-you-have-the-flu-what-to-do/',\n",
       " 'https://www.everydayhealth.com/authors/pamela-kaufman/',\n",
       " 'https://www.everydayhealth.com/cold-and-flu-pictures/10-ways-to-manage-bronchitis.aspx',\n",
       " 'https://www.everydayhealth.com/flu/it-really-flu-how-adenovirus-mimics-influenza/',\n",
       " 'https://www.everydayhealth.com/cold-flu/how-long-are-you-contagious-after-catching-a-virus/',\n",
       " 'https://www.everydayhealth.com/flu/ways-to-not-spread-flu/',\n",
       " 'https://www.everydayhealth.com/diet-nutrition/potential-benefits-of-zinc-supplements/',\n",
       " 'https://www.everydayhealth.com/flu/all-articles/',\n",
       " 'https://www.everydayhealth.com/dehydration/',\n",
       " 'https://www.everydayhealth.com/drugs/cefdinir',\n",
       " 'https://www.everydayhealth.com/lung-respiratory/flu-vaccine-for-home-use-gets-fda-approval/',\n",
       " 'https://www.everydayhealth.com/coronavirus/vaccine-side-effects-what-you-need-to-know/',\n",
       " 'https://www.everydayhealth.com/flu/the-facts-on-flu-vaccine-risks/',\n",
       " 'https://www.everydayhealth.com/infectious-diseases/is-it-safe-to-get-multiple-vaccines-at-the-same-time/',\n",
       " 'https://www.everydayhealth.com/lung-respiratory/asthma/know-when-you-have-asthma/',\n",
       " 'https://www.everydayhealth.com/asthma/what-is-nocturnal-asthma.aspx',\n",
       " 'https://www.everydayhealth.com/rheumatoid-arthritis/living-with/ways-to-lose-weight-with-rheumatoid-arthritis/',\n",
       " 'https://www.everydayhealth.com/rheumatoid-arthritis/basics/facts-about-seronegative-rheumatoid-arthritis/',\n",
       " 'https://www.everydayhealth.com/rheumatoid-arthritis/symptoms/rheumatoid-arthritis-progression/',\n",
       " 'https://www.everydayhealth.com/rheumatoid-arthritis/living-with/why-your-rheumatoid-arthritis-remission-didnt-last/',\n",
       " 'https://www.everydayhealth.com/drugs/fish-oil',\n",
       " 'https://www.everydayhealth.com/hs/rheumatoid-arthritis-treatment-management/exercise-tips/',\n",
       " 'https://www.everydayhealth.com/rheumatoid-arthritis/living-with/can-mindfulness-meditation-ease-arthritis-pain/',\n",
       " 'https://www.everydayhealth.com/hs/rheumatoid-arthritis-treatment-management/complementary-therapies/',\n",
       " 'https://www.everydayhealth.com/hs/rheumatoid-arthritis-treatment-management/dmards-biologics/',\n",
       " 'https://www.everydayhealth.com/rheumatoid-arthritis/new-medication-guidelines-released-for-rheumatoid-arthritis/',\n",
       " 'https://www.everydayhealth.com/rheumatoid-arthritis/living-an-active-life-with-rheumatoid-arthritis/',\n",
       " 'https://www.everydayhealth.com/fitness-pictures/yoga-poses-for-beginners.aspx',\n",
       " 'https://www.everydayhealth.com/rheumatoid-arthritis/living-with/does-cryotherapy-help-treat-rheumatoid-arthritis-pain/',\n",
       " 'https://www.everydayhealth.com/rheumatoid-arthritis/living-with/rheumatoid-arthritis-stress/',\n",
       " 'https://www.everydayhealth.com/rheumatoid-arthritis/living-with/sleep-remedies/',\n",
       " 'https://www.everydayhealth.com/heart-failure/living-with/congestive-heart-failure-life-expectancy/',\n",
       " 'https://www.everydayhealth.com/rheumatoid-arthritis/living-with/rheumatoid-arthritis-lungs/',\n",
       " 'https://www.everydayhealth.com/rheumatoid-arthritis/living-with/rheumatoid-arthritis-eye-complications/',\n",
       " 'https://www.everydayhealth.com/rheumatoid-arthritis/living-with/family-planning-when-you-have-rheumatoid-arthritis/',\n",
       " 'https://www.everydayhealth.com/rheumatoid-arthritis/will-keto-diet-help-ease-joint-pain/',\n",
       " 'https://www.everydayhealth.com/rheumatoid-arthritis/symptoms/stills-disease-juvenile-arthritis/',\n",
       " 'https://www.everydayhealth.com/rheumatoid-arthritis/things-people-with-rheumatoid-arthritis-must-know-about-the-covid-19-vaccines/',\n",
       " 'https://www.everydayhealth.com/multiple-sclerosis/symptoms/multiple-sclerosis-flares/',\n",
       " 'https://www.everydayhealth.com/multiple-sclerosis/relapsing-remitting-ms-disease-affects-everyone-differently/',\n",
       " 'https://www.everydayhealth.com/multiple-sclerosis/secondary-progressive-ms-what-it-when-does-it-start/',\n",
       " 'https://www.everydayhealth.com/multiple-sclerosis/tips-for-coping-with-a-diagnosis-of-primary-progressive-multiple-sclerosis-ppms/',\n",
       " 'https://www.everydayhealth.com/multiple-sclerosis/essential-facts-about-primary-progressive-ms/',\n",
       " 'https://www.everydayhealth.com/multiple-sclerosis/symptoms/eye-complications-ms/',\n",
       " 'https://www.everydayhealth.com/multiple-sclerosis/symptoms/managing-sensory-symptoms-multiple-sclerosis/',\n",
       " 'https://www.everydayhealth.com/multiple-sclerosis/symptoms/coping-with-bladder-dysfunction/',\n",
       " 'https://www.everydayhealth.com/multiple-sclerosis/bowel-incontinence-ms-why-it-happens-what-about-it/',\n",
       " 'https://www.everydayhealth.com/multiple-sclerosis/living-with/multiple-sclerosis-and-emotional-health/',\n",
       " 'https://www.everydayhealth.com/multiple-sclerosis/symptoms/ways-fight-ms-fatigue/',\n",
       " 'https://www.everydayhealth.com/multiple-sclerosis/symptoms/muscle-spasticity/',\n",
       " 'https://www.everydayhealth.com/multiple-sclerosis/treatment/treating-chronic-pain-multiple-sclerosis/',\n",
       " 'https://www.everydayhealth.com/multiple-sclerosis/symptoms/thinking-memory-problems-ms/',\n",
       " 'https://www.everydayhealth.com/multiple-sclerosis/living-with/maintaining-a-healthy-sex-life-when-you-have-ms/',\n",
       " 'https://www.everydayhealth.com/multiple-sclerosis/living-with/getting-a-good-nights-sleep-when-you-have-ms/',\n",
       " 'https://www.everydayhealth.com/multiple-sclerosis/symptoms/managing-vertigo-when-you-have-ms/',\n",
       " 'https://www.everydayhealth.com/multiple-sclerosis/symptoms/gasping-for-breath-when-ms-attacks-your-lungs/',\n",
       " 'https://www.everydayhealth.com/multiple-sclerosis/symptoms/things-try-when-ms-affects-taste-smell/',\n",
       " 'https://www.everydayhealth.com/multiple-sclerosis/symptoms/when-multiple-sclerosis-causes-skin-symptoms/',\n",
       " 'https://www.everydayhealth.com/multiple-sclerosis/symptoms/when-cold-weather-worsens-ms-symptoms/',\n",
       " 'https://www.everydayhealth.com/multiple-sclerosis/symptoms/deal-with-dysphagia-when-you-have-ms/',\n",
       " 'https://www.everydayhealth.com/multiple-sclerosis/symptoms/handling-tremors-and-shakes/',\n",
       " 'https://www.everydayhealth.com/multiple-sclerosis/treatment/side-effects-ms-steroid-treatment/',\n",
       " 'https://www.everydayhealth.com/drugs/methylprednisolone',\n",
       " 'https://www.everydayhealth.com/multiple-sclerosis/what-does-epstein-barr-virus-have-with-ms/',\n",
       " 'https://www.everydayhealth.com/multiple-sclerosis/treatment/ms-diagnosis-spinal-tap-paralysis-neurologist-pain/',\n",
       " 'https://www.everydayhealth.com/drugs/ocrevus',\n",
       " 'https://www.everydayhealth.com/drugs/tizanidine',\n",
       " 'https://www.everydayhealth.com/drugs/ampyra',\n",
       " 'https://www.everydayhealth.com/multiple-sclerosis/multiple-sclerosis-prevention/',\n",
       " 'https://www.everydayhealth.com/multiple-sclerosis/all-about-ms-complications/',\n",
       " 'https://www.everydayhealth.com/multiple-sclerosis/emerging-facts-prevalence/',\n",
       " 'https://www.everydayhealth.com/copd/signs-your-copd-getting-worse/',\n",
       " 'https://www.everydayhealth.com/copd/most-copd-patients-missing-out-on-pulmonary-rehab-benefits/',\n",
       " 'https://www.everydayhealth.com/drugs/atrovent-hfa',\n",
       " 'https://www.everydayhealth.com/drugs/spiriva',\n",
       " 'https://www.everydayhealth.com/drugs/salmeterol-inhalation',\n",
       " 'https://www.everydayhealth.com/drugs/tudorza-pressair',\n",
       " 'https://www.everydayhealth.com/drugs/brovana',\n",
       " 'https://www.everydayhealth.com/drugs/formoterol-inhalation',\n",
       " 'https://www.everydayhealth.com/drugs/incruse-ellipta',\n",
       " 'https://www.everydayhealth.com/drugs/budesonide',\n",
       " 'https://www.everydayhealth.com/drugs/fluticasone-salmeterol',\n",
       " 'https://www.everydayhealth.com/drugs/symbicort',\n",
       " 'https://www.everydayhealth.com/drugs/roflumilast',\n",
       " 'https://www.everydayhealth.com/copd/new-copd-treatment-both-widens-airways-and-fights-inflammation/',\n",
       " 'https://www.everydayhealth.com/lung-respiratory/fda-approves-dupixent-for-patients-struggling-with-copd-symptoms/',\n",
       " 'https://www.everydayhealth.com/drugs/theophylline',\n",
       " 'https://www.everydayhealth.com/eczema/take-control-of-atopic-dermatitis/',\n",
       " 'https://www.everydayhealth.com/drugs/vanos',\n",
       " 'https://www.everydayhealth.com/drugs/ruxolitinib-topical',\n",
       " 'https://www.everydayhealth.com/drugs/dupilumab',\n",
       " 'https://www.everydayhealth.com/drugs/cyclosporine',\n",
       " 'https://www.everydayhealth.com/drugs/rasuvo',\n",
       " 'https://www.everydayhealth.com/drugs/cellcept',\n",
       " 'https://www.everydayhealth.com/drugs/upadacitinib',\n",
       " 'https://www.everydayhealth.com/drugs/abrocitinib',\n",
       " 'https://www.everydayhealth.com/eczema/the-consumers-guide-to-biologics-for-atopic-dermatitis/',\n",
       " 'https://www.everydayhealth.com/eczema/mind-body-therapies-severe-eczema/',\n",
       " 'https://www.everydayhealth.com/psoriasis/managing-skin-cracks-bleeding/',\n",
       " 'https://www.everydayhealth.com/psoriasis/dos-and-donts-for-managing-psoriasis/',\n",
       " 'https://www.everydayhealth.com/psoriasis/diet/foods-that-affect-psoriasis/',\n",
       " 'https://www.everydayhealth.com/psoriasis/living-with/understanding-guttate-psoriasis/',\n",
       " 'https://www.everydayhealth.com/psoriasis/living-with/inverse-psoriasis/',\n",
       " 'https://www.everydayhealth.com/psoriasis/fda-approves-new-treatment-for-people-with-plaque-psoriasis/',\n",
       " 'https://www.everydayhealth.com/psoriasis/fda-approves-first-of-its-kind-steroid-free-cream-for-psoriasis/',\n",
       " 'https://www.everydayhealth.com/psoriasis/the-consumers-guide-to-biologics-for-psoriasis/',\n",
       " 'https://www.everydayhealth.com/drugs/etanercept',\n",
       " 'https://www.everydayhealth.com/drugs/infliximab',\n",
       " 'https://www.everydayhealth.com/drugs/adalimumab',\n",
       " 'https://www.everydayhealth.com/drugs/ustekinumab',\n",
       " 'https://www.everydayhealth.com/drugs/secukinumab',\n",
       " 'https://www.everydayhealth.com/drugs/ixekizumab',\n",
       " 'https://www.everydayhealth.com/drugs/brodalumab',\n",
       " 'https://www.everydayhealth.com/drugs/tildrakizumab',\n",
       " 'https://www.everydayhealth.com/drugs/risankizumab',\n",
       " 'https://www.everydayhealth.com/drugs/guselkumab',\n",
       " 'https://www.everydayhealth.com/drugs/deucravacitinib',\n",
       " 'https://www.everydayhealth.com/drugs/apremilast',\n",
       " 'https://www.everydayhealth.com/drugs/methotrexate-oral',\n",
       " 'https://www.everydayhealth.com/psoriasis/living-with/health-conditions-linked-to-psoriasis/',\n",
       " 'https://www.everydayhealth.com/drugs/cisplatin',\n",
       " 'https://www.everydayhealth.com/drugs/vincristine',\n",
       " 'https://www.everydayhealth.com/drugs/doxorubicin',\n",
       " 'https://www.everydayhealth.com/drugs/kymriah-dlbcl',\n",
       " 'https://www.everydayhealth.com/drugs/yescarta',\n",
       " 'https://www.everydayhealth.com/leukemia/what-are-risk-factors-leukemia/',\n",
       " 'https://www.everydayhealth.com/leukemia/what-are-common-symptoms/',\n",
       " 'https://www.everydayhealth.com/leukemia/rash-pictures-signs-symptoms/#:~:text=During%20the%20progression%20of%20leukemia,the%20skin%2C%E2%80%9D%20Forrestel%20says.',\n",
       " 'https://www.everydayhealth.com/oncologist/guide/',\n",
       " 'https://www.everydayhealth.com/drugs/arimidex',\n",
       " 'https://www.everydayhealth.com/drugs/cortisone',\n",
       " 'https://www.everydayhealth.com/drugs/dexamethasone-oral',\n",
       " 'https://www.everydayhealth.com/stress/how-to-lower-cortisol-things-you-can-do-right-now/',\n",
       " 'https://www.everydayhealth.com/drugs/recorlev',\n",
       " 'https://www.everydayhealth.com/drugs/mifepristone-korlym',\n",
       " 'https://www.everydayhealth.com/drugs/mitotane',\n",
       " 'https://www.everydayhealth.com/drugs/osilodrostat',\n",
       " 'https://www.everydayhealth.com/drugs/pasireotide',\n",
       " 'https://www.everydayhealth.com/drugs/indomethacin',\n",
       " 'https://www.everydayhealth.com/drugs/piroxicam',\n",
       " 'https://www.everydayhealth.com/drugs/fluoxetine',\n",
       " 'https://www.everydayhealth.com/drugs/venlafaxine',\n",
       " 'https://www.everydayhealth.com/maoi/guide/',\n",
       " 'https://www.everydayhealth.com/drugs/pseudoephedrine',\n",
       " 'https://www.everydayhealth.com/calcium-channel-blocker/guide/',\n",
       " 'https://www.everydayhealth.com/type-2-diabetes/guide/prediabetes/',\n",
       " 'https://www.everydayhealth.com/type-2-diabetes/managing-diabetic-neuropathy-with-type-2-diabetes/',\n",
       " 'https://www.everydayhealth.com/insulin/guide/',\n",
       " 'https://www.everydayhealth.com/type-2-diabetes/symptoms/ketosis-diabetic-ketoacidosis-how-they-differ/',\n",
       " 'https://www.everydayhealth.com/hs/type-2-diabetes-management/habits-sabotage-insulin-therapy/',\n",
       " 'https://www.everydayhealth.com/type-2-diabetes/metformin-health-benefits-why-they-likely-go-beyond-type-2-diabetes/',\n",
       " 'https://www.everydayhealth.com/saturated-fat/guide/',\n",
       " 'https://www.everydayhealth.com/diet-nutrition/101/nutrition-basics/the-glycemic-load.aspx',\n",
       " 'https://www.everydayhealth.com/vasopressin/guide/',\n",
       " 'https://www.everydayhealth.com/authors/moira-lawler/',\n",
       " 'https://www.everydayhealth.com/hs/psoriatic-arthritis-management-treatment/eyesight-threat/',\n",
       " 'https://www.everydayhealth.com/dental-health/ways-to-treat-a-toothache-if-you-cant-get-immediate-dental-care/',\n",
       " 'https://www.everydayhealth.com/drugs/celebrex',\n",
       " 'https://www.everydayhealth.com/drugs/diclofenac',\n",
       " 'https://www.everydayhealth.com/drugs/ketorolac',\n",
       " 'https://www.everydayhealth.com/drugs/diclofenac-topical',\n",
       " 'https://www.everydayhealth.com/drugs/azithromycin',\n",
       " 'https://www.everydayhealth.com/cardiac-catheterization/guide/',\n",
       " 'https://www.everydayhealth.com/hs/managing-type-2-diabetes/best-and-worst-foods/',\n",
       " 'https://www.everydayhealth.com/type-2-diabetes/best-fruits-for-diabetes/',\n",
       " 'https://www.everydayhealth.com/type-2-diabetes/diet/low-carb-veggies-for-diabetic-diets/',\n",
       " 'https://www.everydayhealth.com/diet-nutrition/best-food-sources-of-lean-protein/',\n",
       " 'https://www.everydayhealth.com/type-2-diabetes/diet/best-nuts-diabetes-walnuts-almonds-more/',\n",
       " 'https://www.everydayhealth.com/diet-and-nutrition-pictures/the-best-and-worst-nut-butters.aspx',\n",
       " 'https://www.everydayhealth.com/type-2-diabetes/diet/whole-grains-in-the-diabetes-diet/',\n",
       " 'https://www.everydayhealth.com/type-2-diabetes/diet/guide-eating-dairy-with-diabetes/',\n",
       " 'https://www.everydayhealth.com/diet-nutrition/does-sparkling-water-count-as-fluid/',\n",
       " 'https://www.everydayhealth.com/type-2-diabetes/tips-for-dining-out-when-you-have-type-2-diabetes/',\n",
       " 'https://www.everydayhealth.com/high-cholesterol/guide/hdl/',\n",
       " 'https://www.everydayhealth.com/diet-nutrition/scientific-benefits-following-plant-based-diet/',\n",
       " 'https://www.everydayhealth.com/high-cholesterol/guide/ldl/',\n",
       " 'https://www.everydayhealth.com/type-2-diabetes/diet/intermittent-fasting-safe-people-with-diabetes/',\n",
       " 'https://www.everydayhealth.com/type-2-diabetes/diet/diabetes-diet-things-happen-when-you-skip-meals/',\n",
       " 'https://www.everydayhealth.com/news/facts-about-your-liver/',\n",
       " 'https://www.everydayhealth.com/diet-nutrition/how-bad-are-energy-drinks-for-you-really/',\n",
       " 'https://www.everydayhealth.com/drugs/fosfomycin',\n",
       " 'https://www.everydayhealth.com/drugs/macrobid',\n",
       " 'https://www.everydayhealth.com/drugs/cephalexin',\n",
       " 'https://www.everydayhealth.com/drugs/meropenem',\n",
       " 'https://www.everydayhealth.com/drugs/ertapenem',\n",
       " 'https://www.everydayhealth.com/type-2-diabetes/living-with/easy-ways-to-protect-your-kidneys/',\n",
       " 'https://www.everydayhealth.com/urinary-conditions/urine/10-medications-that-may-cause-increased-urination/',\n",
       " 'https://www.everydayhealth.com/drugs/bumetanide',\n",
       " 'https://www.everydayhealth.com/drugs/diazepam',\n",
       " 'https://www.everydayhealth.com/drugs/librium',\n",
       " 'https://www.everydayhealth.com/drugs/lorazepam',\n",
       " 'https://www.everydayhealth.com/urinary-incontinence-photos/living-well-with-urinary-incontinence.aspx',\n",
       " 'https://www.everydayhealth.com/hs/managing-copd/sleep-tips-for-copd/',\n",
       " 'https://www.everydayhealth.com/copd-pictures/foods-that-worsen-copd.aspx',\n",
       " 'https://www.everydayhealth.com/hs/copd/stress-management/',\n",
       " 'https://www.everydayhealth.com/drugs/clomiphene',\n",
       " 'https://www.everydayhealth.com/hemorrhoids/guide/symptoms/',\n",
       " 'https://www.everydayhealth.com/hypertension/managing/home-testing-kits.aspx',\n",
       " 'https://www.everydayhealth.com/hypertension/what-your-blood-pressure-says-about-you.aspx',\n",
       " 'https://www.everydayhealth.com/heart-health/best-questions-ask-your-cardiologist/',\n",
       " 'https://www.everydayhealth.com/drugs/posture',\n",
       " 'https://www.everydayhealth.com/drugs/fludrocortisone',\n",
       " 'https://www.everydayhealth.com/drugs/midodrine',\n",
       " 'https://www.everydayhealth.com/heart-disease/obesity-heart-disease-whats-connection/',\n",
       " 'https://www.everydayhealth.com/diet-nutrition/bmi/how-you-reduce-your-bmi-science-backed-steps/',\n",
       " 'https://www.everydayhealth.com/weight-pictures/hard-truths-about-weight-loss.aspx',\n",
       " 'https://www.everydayhealth.com/fitness/add-strength-training-to-your-workout.aspx',\n",
       " 'https://www.everydayhealth.com/fitness/9-simple-tricks-help-you-start-working-out-actually-stick-it/',\n",
       " 'https://www.everydayhealth.com/authors/k-aleisha-fetters/',\n",
       " 'https://www.everydayhealth.com/authors/nicol-natale/',\n",
       " 'https://www.everydayhealth.com/authors/jessica-migala/',\n",
       " 'https://www.everydayhealth.com/fitness/mobility-exercises-to-boost-your-health-and-fitness/',\n",
       " 'https://www.everydayhealth.com/beauty-pictures/7-surprising-causes-of-dry-skin.aspx',\n",
       " 'https://www.everydayhealth.com/diet-nutrition/potential-health-benefits-of-dates/',\n",
       " 'https://www.everydayhealth.com/colon-cancer/prevention/',\n",
       " 'https://www.everydayhealth.com/alzheimers-disease/beta-amyloid-what-is-its-role-in-alzheimers-disease/',\n",
       " 'https://www.everydayhealth.com/dementia/caregiving-for-dementia-key-steps-for-care-planning/',\n",
       " 'https://www.everydayhealth.com/drugs/leqembi',\n",
       " 'https://www.everydayhealth.com/drugs/kisunla',\n",
       " 'https://www.everydayhealth.com/alzheimers-disease/tips-for-communicating-with-someone-who-has-alzheimers/',\n",
       " 'https://www.everydayhealth.com/drugs/cymbalta',\n",
       " 'https://www.everydayhealth.com/ankylosing-spondylitis/does-turmeric-help-ankylosing-spondylitis/',\n",
       " 'https://www.everydayhealth.com/rheumatoid-arthritis/treatment/hip-pain-home-remedies/',\n",
       " 'https://www.everydayhealth.com/stress/ways-to-bust-stress-in-minutes-or-less/',\n",
       " 'https://www.everydayhealth.com/hs/healthy-living-with-hypothyroidism/see-an-endocrinologist/',\n",
       " 'https://www.everydayhealth.com/vitiligo/is-it-vitiligo-or-something-else/',\n",
       " 'https://www.everydayhealth.com/hs/exocrine-pancreatic-insufficiency/best-epi-mangement-tips-from-doctors/',\n",
       " 'https://www.everydayhealth.com/drugs/rifampin',\n",
       " 'https://www.everydayhealth.com/drugs/griseofulvin',\n",
       " 'https://www.everydayhealth.com/drugs/glycerin-rectal',\n",
       " 'https://www.everydayhealth.com/drugs/nuvaring',\n",
       " 'https://www.everydayhealth.com/drugs/estradiol',\n",
       " 'https://www.everydayhealth.com/drugs/st-johns-wort',\n",
       " 'https://www.everydayhealth.com/drugs/medroxyprogesterone-oral',\n",
       " 'https://www.everydayhealth.com/type-2-diabetes/diet/sugar-substitutes-for-diabetes/',\n",
       " 'https://www.everydayhealth.com/drugs/caffeine',\n",
       " 'https://www.everydayhealth.com/digestive-health-pictures/surprising-things-that-make-you-gassy.aspx',\n",
       " 'https://www.everydayhealth.com/digestive-health/diet/foods-that-help-relieve-constipation/#1',\n",
       " 'https://www.everydayhealth.com/ibs/ibs-and-periods-what-you-need-to-know/',\n",
       " 'https://www.everydayhealth.com/excessive-gas/home-remedies-for-gas/',\n",
       " 'https://www.everydayhealth.com/drugs/alosetron-oral',\n",
       " 'https://www.everydayhealth.com/drugs/eluxadoline',\n",
       " 'https://www.everydayhealth.com/digestive-health/experts-managing-stress-with-ibs.aspx',\n",
       " 'https://www.everydayhealth.com/digestive-health-pictures/superfoods-that-help-digestion.aspx#07',\n",
       " 'https://www.everydayhealth.com/crohns-disease/living-with/ways-to-work-out-with-crohns/',\n",
       " 'https://www.everydayhealth.com/authors/jordan-davidson/',\n",
       " 'https://www.everydayhealth.com/rheumatoid-arthritis/autoimmune-protocol-diet-aip-diet-ra/',\n",
       " 'https://www.everydayhealth.com/columns/my-health-story/dry-needling-most-painful-thing-ever-loved/',\n",
       " 'https://www.everydayhealth.com/alternative-health/ear-seeds-how-acupressure-technique-may-enhance-overall-wellness/',\n",
       " 'https://www.everydayhealth.com/wellness/united-states-of-stress/ultimate-diet-guide-stress-management/',\n",
       " 'https://www.everydayhealth.com/emotional-health/plushcare-review/',\n",
       " 'https://www.everydayhealth.com/stress/best-stress-and-anxiety-relief-products/',\n",
       " 'https://www.everydayhealth.com/skin-and-beauty/skin-tag-causes-and-treatments.aspx',\n",
       " 'https://www.everydayhealth.com/drugs/hemorrhoidal-hygiene-pads',\n",
       " 'https://www.everydayhealth.com/type-2-diabetes/symptoms/surprising-causes-of-blood-sugar-swings/',\n",
       " 'https://www.everydayhealth.com/fitness/yoga-poses-and-exercises-for-better-sleep-tonight/',\n",
       " 'https://www.everydayhealth.com/drugs/lyrica',\n",
       " 'https://www.everydayhealth.com/drugs/savella',\n",
       " 'https://www.everydayhealth.com/fibromyalgia/cognitive-behavioral-therapy-fibromyalgia-think-differently-feel-better/',\n",
       " 'https://www.everydayhealth.com/digestive-health/your-pooping-frequency-may-affect-your-health/',\n",
       " 'https://www.everydayhealth.com/dehydration/hydration-calculator/',\n",
       " 'https://www.everydayhealth.com/constipation/vacation-constipation-why-it-happens-how-to-fix-it/',\n",
       " 'https://www.everydayhealth.com/diet-nutrition/the-best-time-of-day-to-take-dietary-supplements/',\n",
       " 'https://www.everydayhealth.com/drugs/calcium-gluconate-oral-injection',\n",
       " 'https://www.everydayhealth.com/emotional-health/what-is-psychotherapy/',\n",
       " 'https://www.everydayhealth.com/depression/consumers-guide-to-nmda-receptor-antagonists-for-major-depressive-disorder/',\n",
       " 'https://www.everydayhealth.com/depression/new-drug-for-major-depression-is-approved-by-fda/',\n",
       " 'https://www.everydayhealth.com/depression/one-in-six-people-who-stop-antidepressants-have-withdrawal-symptoms/',\n",
       " 'https://www.everydayhealth.com/diet-nutrition/best-and-worst-sources-of-protein/',\n",
       " 'https://www.everydayhealth.com/drugs/ribavirin-inhalation',\n",
       " 'https://www.everydayhealth.com/drugs/sofosbuvir',\n",
       " 'https://www.everydayhealth.com/drugs/tetracycline',\n",
       " 'https://www.everydayhealth.com/drugs/tramadol',\n",
       " 'https://www.everydayhealth.com/stop-smoking-pictures/the-best-and-worst-ways-to-quit-smoking.aspx#1',\n",
       " 'https://www.everydayhealth.com/diabetes/diabetes-and-alcohol-what-you-need-to-know/',\n",
       " 'https://www.everydayhealth.com/type-2-diabetes/symptoms/warning-signs-of-type-2-diabetes/',\n",
       " 'https://www.everydayhealth.com/menstruation/speaking-menstruation-a-glossary-of-terms-used-to-describe-symptoms-tests-treatments-and-more/',\n",
       " 'https://www.everydayhealth.com/drugs/tranexamic-acid-cyklokapron',\n",
       " 'https://www.everydayhealth.com/migraine/things-you-need-to-know-about-medication-overuse-headache/',\n",
       " 'https://www.everydayhealth.com/coronavirus/how-to-cope-with-a-covid-19-headache/',\n",
       " 'https://www.everydayhealth.com/pain-management/headache/headache-neurologist.aspx',\n",
       " 'https://www.everydayhealth.com/headache-migraine/fast-headache-relief.aspx',\n",
       " 'https://www.everydayhealth.com/headache-migraine/all-about-aspirin.aspx',\n",
       " 'https://www.everydayhealth.com/drugs/verapamil',\n",
       " 'https://www.everydayhealth.com/drugs/gabapentin',\n",
       " 'https://www.everydayhealth.com/drugs/lamotrigine',\n",
       " 'https://www.everydayhealth.com/drugs/carbamazepine-oral',\n",
       " 'https://www.everydayhealth.com/integrative-health/potential-health-benefits-of-acupressure-therapy/',\n",
       " 'https://www.everydayhealth.com/wellness/potential-health-benefits-of-massage-therapy/',\n",
       " 'https://www.everydayhealth.com/fitness-pictures/10-surprising-health-perks-of-yoga.aspx',\n",
       " 'https://www.everydayhealth.com/fitness/types-of-stretching-different-techniques-to-foster-flexibility/',\n",
       " 'https://www.everydayhealth.com/back-pain-pictures/best-yoga-poses-to-soothe-back-pain.aspx',\n",
       " 'https://www.everydayhealth.com/yoga/mats-straps-bolsters-and-other-props-to-aid-your-practice/',\n",
       " 'https://www.everydayhealth.com/fertility/uterus-removal-for-postpartum-bleeding-is-too-common/',\n",
       " 'https://www.everydayhealth.com/hysterectomy/uterus-sparing-treatment-options/',\n",
       " 'https://www.everydayhealth.com/drugs/orilissa',\n",
       " 'https://www.everydayhealth.com/hysterectomy/symptoms-conditions-may-treated-with-hysterectomy/',\n",
       " 'https://www.everydayhealth.com/hysterectomy/hysterectomy-may-not-warrented/',\n",
       " 'https://www.everydayhealth.com/hysterectomy/uterus-removal-mental-health/',\n",
       " 'https://www.everydayhealth.com/news/things-your-doctor-wont-tell-you-about-hysterectomy/',\n",
       " 'https://www.everydayhealth.com/alternative-health/living-with/ways-practice-breath-focused-meditation/',\n",
       " 'https://www.everydayhealth.com/meditation/ways-changes-brain/',\n",
       " 'https://www.everydayhealth.com/meditation/how-meditation-can-improve-your-mental-health/',\n",
       " 'https://www.everydayhealth.com/hypertension/living-with/lifestyle-changes-help-you-lower-blood-pressure/',\n",
       " 'https://www.everydayhealth.com/pictures/foods-high-in-magnesium/',\n",
       " 'https://www.everydayhealth.com/ulcerative-colitis/treatment/need-to-know-nutrients-for-ulcerative-colitis/',\n",
       " 'https://www.everydayhealth.com/heart-health/best-nutrient-pairings-heart/',\n",
       " 'https://www.everydayhealth.com/supplements/types-of-magnesium-and-their-benefits/',\n",
       " 'https://www.everydayhealth.com/healthy-living/are-omega-3-fish-oil-supplements-worth-the-money/',\n",
       " 'https://www.everydayhealth.com/drugs/coumadin',\n",
       " 'https://www.everydayhealth.com/supplements/best-omega-3-supplements/',\n",
       " 'https://www.everydayhealth.com/trichomoniasis/guide/',\n",
       " 'https://www.everydayhealth.com/drugs/erythromycin',\n",
       " 'https://www.everydayhealth.com/drugs/ofloxacin',\n",
       " 'https://www.everydayhealth.com/stds/fda-approves-home-test-for-chlamydia-and-gonorrhea/',\n",
       " 'https://www.everydayhealth.com/drugs/rocephin',\n",
       " 'https://www.everydayhealth.com/sexual-health/best-sex-toys/',\n",
       " 'https://www.everydayhealth.com/sexual-health/how-to-find-trustworthy-abortion-emergency-contraception-and-birth-control-resources/',\n",
       " 'https://www.everydayhealth.com/drugs/misoprostol']"
      ]
     },
     "execution_count": 61,
     "metadata": {},
     "output_type": "execute_result"
    }
   ],
   "execution_count": 61
  },
  {
   "metadata": {
    "ExecuteTime": {
     "end_time": "2024-11-16T13:16:05.767036Z",
     "start_time": "2024-11-16T13:16:05.748403Z"
    }
   },
   "cell_type": "code",
   "source": "len(fetched_urls)",
   "id": "2d701a7d3712ebd4",
   "outputs": [
    {
     "data": {
      "text/plain": [
       "1217"
      ]
     },
     "execution_count": 62,
     "metadata": {},
     "output_type": "execute_result"
    }
   ],
   "execution_count": 62
  },
  {
   "metadata": {
    "ExecuteTime": {
     "end_time": "2024-11-16T13:43:21.638707Z",
     "start_time": "2024-11-16T13:43:19.397738Z"
    }
   },
   "cell_type": "code",
   "source": "from langchain_community.document_loaders import JSONLoader\n",
   "id": "2540bf43263dfcd6",
   "outputs": [],
   "execution_count": 63
  },
  {
   "metadata": {
    "ExecuteTime": {
     "end_time": "2024-11-16T13:56:01.755374Z",
     "start_time": "2024-11-16T13:56:01.718650Z"
    }
   },
   "cell_type": "code",
   "source": [
    "# Define the metadata extraction function.\n",
    "def metadata_func(record: dict, metadata: dict) -> dict:\n",
    "\n",
    "    metadata[\"source\"] = record.get(\"url\")\n",
    "    metadata[\"category\"] = record.get(\"category\")\n",
    "    metadata[\"head\"] = record.get(\"head\")\n",
    "\n",
    "    return metadata\n",
    "\n",
    "\n",
    "\n",
    "loader = JSONLoader(\n",
    "    file_path='../data/_Steps_to_Help_Prevent_Sepsis_if_You_Have_an_Infection.json',\n",
    "    jq_schema='.[]',\n",
    "    content_key=\"context\",\n",
    "    metadata_func=metadata_func\n",
    ")\n",
    "\n",
    "data = loader.load()"
   ],
   "id": "14315f92b4f0aa33",
   "outputs": [],
   "execution_count": 83
  },
  {
   "metadata": {
    "ExecuteTime": {
     "end_time": "2024-11-16T13:56:04.772339Z",
     "start_time": "2024-11-16T13:56:04.751901Z"
    }
   },
   "cell_type": "code",
   "source": "data[0]",
   "id": "dfc9053cf0b38cdb",
   "outputs": [
    {
     "data": {
      "text/plain": [
       "Document(metadata={'source': 'https://www.everydayhealth.com/sepsis/preventing-sepsis-after-infection-key-steps-take/', 'seq_num': 1, 'category': 'Sepsis', 'head': '5 Steps to Help Prevent Sepsis if You Have an Infection'}, page_content='Sepsis is a life-threatening complication that occurs when chemicals released into the bloodstream to stop an infection cause widespread inflammation. (1)Symptoms of sepsis include a fever, a fast heart rate, and a fast respiratory rate. Sepsis can progress to severe sepsis, at which point you may have dizziness, confusion, and difficulty breathing. If sepsis is left untreated, the next stage is septic shock.“Shock is a state where organs don’t receive the appropriate blood flow to function due to severely low blood pressure,” says\\xa0Kimberly Brown, MD, MPH, an ER doctor in Memphis, Tennessee.Sepsis can occur after an infection, whether it’s bacterial, viral, or fungal. Common infections that can turn into sepsis include urinary tract infections, pneumonia, abdominal infections, and skin infections. Although sepsis can happen to anyone, people with a weakened immune system are more susceptible. This includes people with chronic illnesses, babies, the elderly, and pregnant women. (2)Treatments for sepsis include medication, intravenous fluids, and sometimes surgery. But even with treatment, complications can occur. These include organ damage, amputation, and post-sepsis symptoms like fatigue and decreased cognitive function. (3)Knowing how to prevent sepsis can help you avoid these life-changing effects. Because sepsis stems from infection, protecting yourself starts with preventing the spread of infections.\\xa0Here are five approaches to consider:')"
      ]
     },
     "execution_count": 84,
     "metadata": {},
     "output_type": "execute_result"
    }
   ],
   "execution_count": 84
  },
  {
   "metadata": {
    "ExecuteTime": {
     "end_time": "2024-11-16T13:56:11.745266Z",
     "start_time": "2024-11-16T13:56:11.732298Z"
    }
   },
   "cell_type": "code",
   "source": "print(data[4].page_content)",
   "id": "65fddea0ba956aa4",
   "outputs": [
    {
     "name": "stdout",
     "output_type": "stream",
     "text": [
      "4. Wash Your Hands and Practice Good HygieneAnother way to prevent infections and ultimately sepsis is to practice good hygiene. This involves frequently washing your hands to reduce the spread of bacteria, viruses, and fungi, explains Rebecca Park, RN, who is based in New York City and the founder of the natural health resource Remedies For Me.Washing entails more than running water over your hands. You should use warm or hot soapy water, and lather your hands. To thoroughly remove germs and bacteria, rub your hands together vigorously, making sure that the water cleans in between your fingers and underneath nails. (4)As a general rule of thumb, it should take about 15 to 20 seconds to wash your hands the right way. You should wash your hands for as long as it takes to sing the “Happy Birthday” song twice. When you’re finished, rinse and dry with a clean cloth. (4)It’s important that you also teach your children proper hand washing.Along with knowing the right way to wash your hands, increase the frequency of washing. This is important during cold and flu season, and if you have a weaker immune system. (4)Make sure to wash your hands: (4)Before preparing food or eating a mealAfter using the restroomAfter coughing, sneezing, or blowing your noseAfter contact with petsYou should also develop a routine of washing your hands every time you return home, and after contact with commonly touched surfaces (door handles, light switches, elevator buttons). If you don’t have access to soap and water, use hand sanitizer. (4)\n"
     ]
    }
   ],
   "execution_count": 85
  },
  {
   "metadata": {
    "ExecuteTime": {
     "end_time": "2024-11-16T13:59:25.540764Z",
     "start_time": "2024-11-16T13:59:25.521723Z"
    }
   },
   "cell_type": "code",
   "source": "data[4].metadata",
   "id": "7adcc2f117af1535",
   "outputs": [
    {
     "data": {
      "text/plain": [
       "{'source': 'https://www.everydayhealth.com/sepsis/preventing-sepsis-after-infection-key-steps-take/',\n",
       " 'seq_num': 5,\n",
       " 'category': 'Sepsis',\n",
       " 'head': '5 Steps to Help Prevent Sepsis if You Have an Infection'}"
      ]
     },
     "execution_count": 86,
     "metadata": {},
     "output_type": "execute_result"
    }
   ],
   "execution_count": 86
  },
  {
   "metadata": {
    "ExecuteTime": {
     "end_time": "2024-11-16T14:04:15.469425Z",
     "start_time": "2024-11-16T14:04:15.459967Z"
    }
   },
   "cell_type": "code",
   "source": "from pathlib import Path",
   "id": "434b6205ae8de1f",
   "outputs": [],
   "execution_count": 88
  },
  {
   "metadata": {
    "ExecuteTime": {
     "end_time": "2024-11-16T14:07:47.226971Z",
     "start_time": "2024-11-16T14:07:47.222083Z"
    }
   },
   "cell_type": "code",
   "source": [
    "# Define the documents extraction function.\n",
    "\n",
    "def doc_loder(file_path)->list:\n",
    "    loader = JSONLoader(\n",
    "        file_path=file_path,\n",
    "        jq_schema='.[]',\n",
    "        content_key=\"context\",\n",
    "        metadata_func=metadata_func\n",
    "    )\n",
    "    \n",
    "    return loader.load()"
   ],
   "id": "f84c997e75c99747",
   "outputs": [],
   "execution_count": 90
  },
  {
   "metadata": {
    "ExecuteTime": {
     "end_time": "2024-11-16T14:08:46.426265Z",
     "start_time": "2024-11-16T14:08:35.640604Z"
    }
   },
   "cell_type": "code",
   "source": [
    "directory = Path('../data')\n",
    "files = os.listdir(directory)\n",
    "documents = []\n",
    "for file in files:\n",
    "    file_path = directory / file\n",
    "    documents.extend(doc_loder(file_path))"
   ],
   "id": "4e2dee1ed243ea33",
   "outputs": [],
   "execution_count": 94
  },
  {
   "metadata": {
    "ExecuteTime": {
     "end_time": "2024-11-16T14:08:49.920646Z",
     "start_time": "2024-11-16T14:08:49.905838Z"
    }
   },
   "cell_type": "code",
   "source": "len(documents)",
   "id": "41735ab158e8500",
   "outputs": [
    {
     "data": {
      "text/plain": [
       "5129"
      ]
     },
     "execution_count": 95,
     "metadata": {},
     "output_type": "execute_result"
    }
   ],
   "execution_count": 95
  },
  {
   "metadata": {
    "ExecuteTime": {
     "end_time": "2024-11-16T14:20:41.991468Z",
     "start_time": "2024-11-16T14:20:17.051966Z"
    }
   },
   "cell_type": "code",
   "source": [
    "from langchain_community.embeddings.sentence_transformer import SentenceTransformerEmbeddings\n",
    "\n",
    "embedding_function = SentenceTransformerEmbeddings(model_name=\"all-MiniLM-L6-v2\")"
   ],
   "id": "579ccd7e05dfb648",
   "outputs": [],
   "execution_count": 97
  },
  {
   "metadata": {
    "ExecuteTime": {
     "end_time": "2024-11-16T14:26:37.675120Z",
     "start_time": "2024-11-16T14:23:13.168724Z"
    }
   },
   "cell_type": "code",
   "source": [
    "from langchain_chroma import Chroma\n",
    "\n",
    "collection_name = \"my_collection\"\n",
    "vectorstore = Chroma.from_documents(\n",
    "    collection_name=collection_name,\n",
    "    documents=documents,\n",
    "    embedding=embedding_function,\n",
    "    persist_directory=\"../chroma_db\"\n",
    ")\n",
    "print(\"Vector store created and persisted to './chroma_db'\")\n"
   ],
   "id": "74b49152d418763d",
   "outputs": [
    {
     "name": "stdout",
     "output_type": "stream",
     "text": [
      "Vector store created and persisted to './chroma_db'\n"
     ]
    }
   ],
   "execution_count": 99
  },
  {
   "metadata": {
    "ExecuteTime": {
     "end_time": "2024-11-16T14:49:07.033416Z",
     "start_time": "2024-11-16T14:49:06.942874Z"
    }
   },
   "cell_type": "code",
   "source": "vectorstore1 = Chroma.load(\"../chroma_db\")",
   "id": "95180eb940811823",
   "outputs": [
    {
     "ename": "AttributeError",
     "evalue": "type object 'Chroma' has no attribute 'load'",
     "output_type": "error",
     "traceback": [
      "\u001B[0;31m---------------------------------------------------------------------------\u001B[0m",
      "\u001B[0;31mAttributeError\u001B[0m                            Traceback (most recent call last)",
      "Cell \u001B[0;32mIn[106], line 1\u001B[0m\n\u001B[0;32m----> 1\u001B[0m vectorstore1 \u001B[38;5;241m=\u001B[39m \u001B[43mChroma\u001B[49m\u001B[38;5;241;43m.\u001B[39;49m\u001B[43mload\u001B[49m(\u001B[38;5;124m\"\u001B[39m\u001B[38;5;124m../chroma_db\u001B[39m\u001B[38;5;124m\"\u001B[39m)\n",
      "\u001B[0;31mAttributeError\u001B[0m: type object 'Chroma' has no attribute 'load'"
     ]
    }
   ],
   "execution_count": 106
  },
  {
   "metadata": {
    "ExecuteTime": {
     "end_time": "2024-11-16T14:42:42.017396Z",
     "start_time": "2024-11-16T14:42:41.935928Z"
    }
   },
   "cell_type": "code",
   "source": [
    "query = \"What Is Psychedelic TherapyWhat Is Psychedelic Therapy?\"\n",
    "search_results = vectorstore.similarity_search(query, k=2)\n",
    "print(f\"\\nTop 2 most relevant chunks for the query: '{query}'\\n\")\n",
    "for i, result in enumerate(search_results, 1):\n",
    "    print(f\"Result {i}:\")\n",
    "    print(f\"Source: {result.metadata.get('source', 'Unknown')}\")\n",
    "    print(f\"Content: {result.page_content}\")\n",
    "    print()\n"
   ],
   "id": "f3d1518aa0595b42",
   "outputs": [
    {
     "name": "stdout",
     "output_type": "stream",
     "text": [
      "\n",
      "Top 2 most relevant chunks for the query: 'What Is Psychedelic TherapyWhat Is Psychedelic Therapy?'\n",
      "\n",
      "Result 1:\n",
      "Source: https://www.everydayhealth.com/integrative-health/potential-health-benefits-of-microdosing-psychedelics/\n",
      "Content: What Is Psychedelic Therapy?Psychedelic therapy involves ingesting psychedelic substances, such as psilocybin (from “magic mushrooms”), LSD, MDMA, or ketamine, to experience an altered consciousness and potentially cause changes in the brain. The theory is that these changes can alleviate mental health conditions, such as PTSD or depression.[1]But there are several downsides to psychedelic therapy, including legal complexities, potential side effects, and adverse psychological challenges. Treatment is also quite intensive, often requiring multiple lengthy sessions before there's a noticeable effect.Microdoses of psychedlics may counter some of these downsides.Please note: This article serves only as an informational resource about what we know on microdosing to date. Everyday Health is not in any way condoning the illegal use of psychedelic drugs for therapeutic or recreational purposes.\n",
      "\n",
      "Result 2:\n",
      "Source: https://www.everydayhealth.com/emotional-health/psychedelic-drugs-can-they-help-treat-mental-illness/\n",
      "Content: The Future of Psychedelic Medicine for Mental IllnessThe recent surge in psychedelics research will likely continue gaining steam.“It’s receiving attention because of very large effects for very difficult to treat disorders — effects that often dwarf our best existing medications,” Johnson says. “That, combined with the fact that we are at peak levels of mental health trouble as a society and we’re pretty desperate for breakthrough changes. This shows good promise of being a game changer,” he adds.Still, Johnson and others say more extensive, rigorous studies need to be done before psychedelic drugs can be considered a mainstream therapy.And although studies are showing positive results, there are still many unknowns, such as the ways these drugs will be administered if they become FDA-approved. “There are so many questions we have to study that we don’t know the answers to,” O’Donnell notes.O’Donnell says she envisions specialized psychedelic clinics popping up in areas around the country where patients will receive guidance, support, and psychotherapy along with psychedelic treatment.While the future of psychedelic therapy offers exciting possibilities, O’Donnell emphasizes that overcoming mental health disorders is a process that often takes time and hard work.“Changing one’s life isn’t something that happens in an instant. It’s something we have to commit to and live out,” O’Donnell says. “Psychedelics give us an opportunity to settle into a new pattern, but we still have to choose that pattern and establish it consciously. There’s a real responsibility, and it can be a lifelong journey.”\n",
      "\n"
     ]
    }
   ],
   "execution_count": 102
  }
 ],
 "metadata": {
  "kernelspec": {
   "display_name": "Python 3",
   "language": "python",
   "name": "python3"
  },
  "language_info": {
   "codemirror_mode": {
    "name": "ipython",
    "version": 2
   },
   "file_extension": ".py",
   "mimetype": "text/x-python",
   "name": "python",
   "nbconvert_exporter": "python",
   "pygments_lexer": "ipython2",
   "version": "2.7.6"
  }
 },
 "nbformat": 4,
 "nbformat_minor": 5
}
