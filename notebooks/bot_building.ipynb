{
 "cells": [
  {
   "metadata": {},
   "cell_type": "markdown",
   "source": "# Import Libraries",
   "id": "672f2e5b42718ff9"
  },
  {
   "cell_type": "code",
   "id": "initial_id",
   "metadata": {
    "collapsed": true,
    "ExecuteTime": {
     "end_time": "2024-11-17T19:09:10.172474Z",
     "start_time": "2024-11-17T19:09:08.405582Z"
    }
   },
   "source": [
    "from langchain_community.embeddings.sentence_transformer import SentenceTransformerEmbeddings\n",
    "from langchain_mongodb import MongoDBAtlasVectorSearch\n",
    "from pymongo import MongoClient\n",
    "from langchain_core.prompts import MessagesPlaceholder\n",
    "from langchain.chains import create_history_aware_retriever\n",
    "from langchain_core.prompts import ChatPromptTemplate\n",
    "from langchain.chains.combine_documents import create_stuff_documents_chain\n",
    "from langchain.chains.retrieval import create_retrieval_chain\n",
    "from langchain_google_genai import (\n",
    "    ChatGoogleGenerativeAI,\n",
    "    HarmBlockThreshold,\n",
    "    HarmCategory,\n",
    ")\n",
    "import os\n",
    "from langchain.schema.runnable import RunnablePassthrough\n",
    "from langchain_core.output_parsers import StrOutputParser\n",
    "from dotenv import load_dotenv\n",
    "load_dotenv()"
   ],
   "outputs": [
    {
     "data": {
      "text/plain": [
       "True"
      ]
     },
     "execution_count": 1,
     "metadata": {},
     "output_type": "execute_result"
    }
   ],
   "execution_count": 1
  },
  {
   "metadata": {},
   "cell_type": "markdown",
   "source": "# LLM Model",
   "id": "4c705010b187c44b"
  },
  {
   "metadata": {
    "ExecuteTime": {
     "end_time": "2024-11-17T19:09:10.265358Z",
     "start_time": "2024-11-17T19:09:10.244727Z"
    }
   },
   "cell_type": "code",
   "source": [
    "llm = ChatGoogleGenerativeAI(\n",
    "    model=\"gemini-1.5-pro-latest\",\n",
    "    safety_settings={\n",
    "        HarmCategory.HARM_CATEGORY_DANGEROUS_CONTENT: HarmBlockThreshold.BLOCK_NONE,\n",
    "    },\n",
    ")"
   ],
   "id": "fd5fe17935ac0f00",
   "outputs": [],
   "execution_count": 2
  },
  {
   "metadata": {
    "ExecuteTime": {
     "end_time": "2024-11-17T19:09:16.727261Z",
     "start_time": "2024-11-17T19:09:14.142218Z"
    }
   },
   "cell_type": "code",
   "source": [
    "# testing\n",
    "llm.invoke(\"what is your name\")"
   ],
   "id": "1e4d126e5f63b961",
   "outputs": [
    {
     "data": {
      "text/plain": [
       "AIMessage(content=\"I am a large language model, trained by Google.  I don't have a name.\\n\", additional_kwargs={}, response_metadata={'prompt_feedback': {'block_reason': 0, 'safety_ratings': []}, 'finish_reason': 'STOP', 'safety_ratings': []}, id='run-b8fb7380-8c3a-4890-804e-28e5118113bc-0', usage_metadata={'input_tokens': 5, 'output_tokens': 21, 'total_tokens': 26, 'input_token_details': {'cache_read': 0}})"
      ]
     },
     "execution_count": 3,
     "metadata": {},
     "output_type": "execute_result"
    }
   ],
   "execution_count": 3
  },
  {
   "metadata": {},
   "cell_type": "markdown",
   "source": "# Retriever",
   "id": "e78bf7b6194d99e0"
  },
  {
   "metadata": {
    "ExecuteTime": {
     "end_time": "2024-11-17T19:47:52.207224Z",
     "start_time": "2024-11-17T19:47:52.202641Z"
    }
   },
   "cell_type": "code",
   "source": [
    "def vector_store(model_name,embedding_dim,cluster_uri,db_name,collection_name):\n",
    "    embeddings = SentenceTransformerEmbeddings(model_name=model_name)\n",
    "\n",
    "    # initialize MongoDB python client\n",
    "    client = MongoClient(cluster_uri)\n",
    "    ATLAS_VECTOR_SEARCH_INDEX_NAME = \"langchain-test-index-vectorstores\"\n",
    "\n",
    "    MONGODB_COLLECTION = client[db_name][collection_name]\n",
    "\n",
    "    vector_store = MongoDBAtlasVectorSearch(\n",
    "        collection=MONGODB_COLLECTION,\n",
    "        embedding=embeddings,\n",
    "        index_name=ATLAS_VECTOR_SEARCH_INDEX_NAME,\n",
    "        relevance_score_fn=\"cosine\",\n",
    "    )\n",
    "\n",
    "    # Create vector search index on the collection\n",
    "    # Since we are using the default OpenAI embedding model (ada-v2) we need to specify the dimensions as 1536\n",
    "    #vector_store.create_vector_search_index(dimensions=embedding_dim)\n",
    "\n",
    "    return vector_store"
   ],
   "id": "d7036063b94d557d",
   "outputs": [],
   "execution_count": 16
  },
  {
   "metadata": {
    "ExecuteTime": {
     "end_time": "2024-11-17T19:47:54.001495Z",
     "start_time": "2024-11-17T19:47:53.998397Z"
    }
   },
   "cell_type": "code",
   "source": [
    "model_name = \"all-MiniLM-L6-v2\"\n",
    "embedding_dim = 384\n",
    "cluster_uri =os.getenv(\"CLUSTER_URL\")\n",
    "db_name = \"langchain\"\n",
    "collection_name = \"vector\"\n"
   ],
   "id": "2d89b1b6f1459317",
   "outputs": [],
   "execution_count": 17
  },
  {
   "metadata": {
    "ExecuteTime": {
     "end_time": "2024-11-17T19:48:01.292556Z",
     "start_time": "2024-11-17T19:47:56.191466Z"
    }
   },
   "cell_type": "code",
   "source": [
    "vector_store = vector_store(model_name=model_name,embedding_dim=embedding_dim,cluster_uri=cluster_uri,db_name=db_name,collection_name=collection_name)\n",
    "vector_store.similarity_search(\"when to eat salad\",k=3)"
   ],
   "id": "24cc5b5426eeac56",
   "outputs": [
    {
     "data": {
      "text/plain": [
       "[Document(metadata={'_id': 'd3e3bfe9-edf9-4e04-a3dc-84999f759dde', 'source': 'https://www.everydayhealth.com/diet-nutrition-pictures/best-salad-greens-for-your-health.aspx', 'head': 'Healthy Recipes', 'title': 'Ranking_14_Top_Salad_Greens_From_Best_to_Worst'}, page_content='9. RomainePortion:\\xa01 cup shreddedCalories:\\xa05Carbs:\\xa01 gFiber:\\xa00.05 gProtein:\\xa00.05 gWhy It’s Healthy\\xa0Romaine lettuce’s dark green color, long leaves, and crunchy texture make it a very popular salad base. Two cups of romaine bring about 30 percent of your daily vitamin A, and nearly three-quarters of your vitamin K.[18]Meal Prep Inspo“Romaine lettuce has a great crunch and is delicious served in a salad or on top of a sandwich,” says Kennedy. “Romaine can even be lightly grilled for a unique, slightly charred flavor.”To boost the nutritional value of your salad, mix romaine with some spinach or kale to pack in more antioxidants, or opt for a premixed blend. “Prepackaged salad green mixtures offer a wide variety of nutrients without you having to buy large quantities of each type of green,” says Kennedy. Tossing your salad greens with a small amount of healthy oil is also a great idea, as the oil adds a dose of healthy fat (and flavor) and can also improve your body’s absorption of fat-soluble vitamins from the salad, she adds.'),\n",
       " Document(metadata={'_id': '48f0a6c6-136c-4805-a1c5-06ac1020c067', 'source': 'https://www.everydayhealth.com/diet-nutrition/meal-prep-tips-every-beginner-should-know/', 'head': 'Healthy Recipes', 'title': '10_Meal_Prep_Tips_Every_Beginner_Should_Know'}, page_content='1. Make a Plan and Prep ScheduleOne of the best ways to meal prep is to set aside an hour or two every week to draft a meal plan and build your shopping list. Mia Syn, MS, RDN, the owner of\\xa0Nutrition by Mia\\xa0in Charleston, South Carolina, recommends penciling it into your calendar and treating it as a priority — just as you would an important date or work meeting.Additionally, Palinski-Wade suggests allocating separate time for post-shopping prep — whether that’s simply cutting vegetables into snack-ready slices, or cooking whole batch-style freezer meals. Find what works for you and stick to it, and over time you’ll create a good habit that’s second nature.'),\n",
       " Document(metadata={'_id': '93278556-0cdf-4384-a496-c33e69aafeb7', 'source': 'https://www.everydayhealth.com/diet-nutrition/longevity-diet/', 'head': 'Diet Types', 'title': 'What_Is_the_Longevity_Diet?_A_Detailed_Beginner’s_Guide'}, page_content=\"5 Beginner Tips for Starting the Longevity DietIf you aren't used to eating generous amounts of vegetables, this style of eating may be a big change. In addition to working with a registered dietitian-nutritionist, here's some advice for transitioning to the longevity diet.1. Take Baby StepsIf you’re having a hard time switching up your diet and eating more fruits and vegetables, keep your diet the same but move forward with eating in a 12-hour window, says Longo. That could be between 7 a.m. and 7 p.m. or 8 a.m. and 8 p.m., but don’t forget to eat breakfast!2. Test-Drive New Foods“Try eating a vegetable you’ve never had before at your dining spot, or venture out to an ethnic restaurant known for its vegetables,” says Palumbo. She suggests, for example, ordering a bowl of minestrone soup or pasta fagioli at an Italian restaurant, then trying to cook it at home. At a Greek restaurant, try ordering their horta, which is sautéed greens, or select the sautéed spinach, both served with lemon juice and extra-virgin olive oil, then make these at home, too.This tip can apply to all foods on the longevity diet, really. “You can go slow so that your taste buds have time to adapt, and learn to love the foods that love you back,” says Katz.3. Gradually Cut Back on Processed Foods to Reduce Your Reliance on Them“Then,” suggests Palumbo, “get back into the kitchen and explore some new recipes by following along with cooking instructors on YouTube, TikTok, or their own websites.” She also recommends setting a goal to cook one new recipe a week and come up with a repertoire of new recipes that you enjoy over time.4. Check Out Ingredient Lists on Packaged FoodsWhen in the grocery store, take time to read the ingredient lists on some of your favorite processed foods, says Palumbo. “Once you realize how many additives there are, you may be convinced to reduce your reliance on them and begin controlling your own ingredient lists by cooking more,” Palumbo says.5. Figure Out if You Have Food Allergies or SensitivitiesThe rules for the longevity diet may come off as rigid, but there’s a level of customization you can work with.That will be important if you’re managing a health condition such as celiac disease and can’t eat whole grains, which the diet calls for, for example.Make an appointment with a doctor or registered dietitian if you’re concerned about a food allergy or intolerance that would make following the longevity diet framework problematic for your health. Again, it's important to work with a professional for the fasting-mimicking portion of this diet.\")]"
      ]
     },
     "execution_count": 18,
     "metadata": {},
     "output_type": "execute_result"
    }
   ],
   "execution_count": 18
  },
  {
   "metadata": {
    "ExecuteTime": {
     "end_time": "2024-11-17T19:57:27.463517Z",
     "start_time": "2024-11-17T19:57:27.460579Z"
    }
   },
   "cell_type": "code",
   "source": "retriever = vector_store.as_retriever(search_kwargs={\"k\": 2})",
   "id": "c4be384a01af950f",
   "outputs": [],
   "execution_count": 19
  },
  {
   "metadata": {
    "ExecuteTime": {
     "end_time": "2024-11-17T19:57:29.821358Z",
     "start_time": "2024-11-17T19:57:29.817899Z"
    }
   },
   "cell_type": "code",
   "source": [
    "def docs2str(docs):\n",
    "    return \"\\n\\n\".join(doc.page_content for doc in docs)"
   ],
   "id": "5fedd0a2191b2bab",
   "outputs": [],
   "execution_count": 20
  },
  {
   "metadata": {},
   "cell_type": "markdown",
   "source": "# History Aware Chat Prompt Template",
   "id": "35cf7c8794fcdfa7"
  },
  {
   "metadata": {
    "ExecuteTime": {
     "end_time": "2024-11-17T19:57:31.957286Z",
     "start_time": "2024-11-17T19:57:31.950310Z"
    }
   },
   "cell_type": "code",
   "source": [
    "contextualize_q_system_prompt = \"\"\"\n",
    "Given a chat history and the latest user question\n",
    "which might reference context in the chat history,\n",
    "formulate a standalone question which can be understood\n",
    "without the chat history. Do NOT answer the question,\n",
    "just reformulate it if needed and otherwise return it as is.\n",
    "\"\"\"\n",
    "\n",
    "contextualize_q_prompt = ChatPromptTemplate.from_messages(\n",
    "    [\n",
    "        (\"system\", contextualize_q_system_prompt),\n",
    "        MessagesPlaceholder(\"chat_history\"),\n",
    "        (\"human\", \"{input}\"),\n",
    "    ]\n",
    ")\n",
    "\n",
    "history_aware_retriever = create_history_aware_retriever(\n",
    "    llm, retriever, contextualize_q_prompt\n",
    ")"
   ],
   "id": "b83660923ab8170",
   "outputs": [],
   "execution_count": 21
  },
  {
   "metadata": {
    "ExecuteTime": {
     "end_time": "2024-11-17T19:57:34.648359Z",
     "start_time": "2024-11-17T19:57:34.645078Z"
    }
   },
   "cell_type": "code",
   "source": [
    "from langchain_core.messages import HumanMessage, AIMessage\n",
    "chat_history = []"
   ],
   "id": "88a8951835ac5fec",
   "outputs": [],
   "execution_count": 22
  },
  {
   "metadata": {
    "ExecuteTime": {
     "end_time": "2024-11-17T19:57:37.705376Z",
     "start_time": "2024-11-17T19:57:37.696677Z"
    }
   },
   "cell_type": "code",
   "source": [
    "system_prompt = (\n",
    "    \"You are an health doctor A.I who provide medical advices for queries. \"\n",
    "    \"communicate as a real doctor\"\n",
    "    \"Use the following pieces of retrieved context to answer \"\n",
    "    \"the question. If you don't know the answer, say that you \"\n",
    "    \"don't know. Use five sentences maximum and keep the \"\n",
    "    \"answer concise.\"\n",
    "    \"\\n\\n\"\n",
    "    \"{context}\"\n",
    ")\n",
    "qa_prompt = ChatPromptTemplate.from_messages(\n",
    "    [\n",
    "        (\"system\", system_prompt),\n",
    "        MessagesPlaceholder(\"chat_history\"),\n",
    "        (\"human\", \"{input}\"),\n",
    "    ]\n",
    ")\n",
    "question_answer_chain = create_stuff_documents_chain(llm, qa_prompt)\n",
    "\n",
    "rag_chain = create_retrieval_chain(history_aware_retriever, question_answer_chain)"
   ],
   "id": "7a59d2bfa0d4a2a9",
   "outputs": [],
   "execution_count": 23
  },
  {
   "metadata": {
    "ExecuteTime": {
     "end_time": "2024-11-17T19:57:46.466031Z",
     "start_time": "2024-11-17T19:57:42.351044Z"
    }
   },
   "cell_type": "code",
   "source": "response = rag_chain.invoke({\"input\":\"symptoms of brest cancer?\",\"chat_history\":chat_history,\"context\":history_aware_retriever})",
   "id": "16d7a491ed1830c5",
   "outputs": [],
   "execution_count": 24
  },
  {
   "metadata": {
    "ExecuteTime": {
     "end_time": "2024-11-17T19:58:01.514301Z",
     "start_time": "2024-11-17T19:58:01.509087Z"
    }
   },
   "cell_type": "code",
   "source": "response[\"answer\"]",
   "id": "f6325205df802550",
   "outputs": [
    {
     "data": {
      "text/plain": [
       "'Breast cancer symptoms can include a lump or mass, breast or nipple pain, nipple retraction (turning inward), and skin changes like dimpling, redness, flakiness, or thickening.  You may also experience nipple discharge or swollen lymph nodes.  If you notice any of these changes, please consult a doctor immediately for proper evaluation and diagnosis. Early detection is crucial for successful treatment.\\n'"
      ]
     },
     "execution_count": 25,
     "metadata": {},
     "output_type": "execute_result"
    }
   ],
   "execution_count": 25
  },
  {
   "metadata": {
    "ExecuteTime": {
     "end_time": "2024-11-17T14:07:39.258641Z",
     "start_time": "2024-11-17T14:07:39.253661Z"
    }
   },
   "cell_type": "code",
   "source": "response[\"context\"][0].metadata",
   "id": "5f4b1483eaeb7f0e",
   "outputs": [
    {
     "data": {
      "text/plain": [
       "{'head': '',\n",
       " 'source': 'https://www.everydayhealth.com/breast-cancer/guide/',\n",
       " 'title': 'What_Is_Breast_Cancer_Symptoms_Causes_Diagnosis_Treatment_and_Prevention'}"
      ]
     },
     "execution_count": 34,
     "metadata": {},
     "output_type": "execute_result"
    }
   ],
   "execution_count": 34
  },
  {
   "metadata": {},
   "cell_type": "code",
   "outputs": [],
   "execution_count": null,
   "source": [
    "import sqlite3\n",
    "from datetime import datetime\n",
    "import uuid\n",
    "\n",
    "DB_NAME = \"rag_app.db\"\n",
    "\n",
    "def get_db_connection():\n",
    "    conn = sqlite3.connect(DB_NAME)\n",
    "    conn.row_factory = sqlite3.Row\n",
    "    return conn\n",
    "\n",
    "def create_application_logs():\n",
    "    conn = get_db_connection()\n",
    "    conn.execute('''CREATE TABLE IF NOT EXISTS application_logs\n",
    "    (id INTEGER PRIMARY KEY AUTOINCREMENT,\n",
    "    session_id TEXT,\n",
    "    user_query TEXT,\n",
    "    gpt_response TEXT,\n",
    "    model TEXT,\n",
    "    created_at TIMESTAMP DEFAULT CURRENT_TIMESTAMP)''')\n",
    "    conn.close()\n",
    "\n",
    "def insert_application_logs(session_id, user_query, gpt_response, model):\n",
    "    conn = get_db_connection()\n",
    "    conn.execute('INSERT INTO application_logs (session_id, user_query, gpt_response, model) VALUES (?, ?, ?, ?)',\n",
    "                 (session_id, user_query, gpt_response, model))\n",
    "    conn.commit()\n",
    "    conn.close()\n",
    "\n",
    "def get_chat_history(session_id):\n",
    "    conn = get_db_connection()\n",
    "    cursor = conn.cursor()\n",
    "    cursor.execute('SELECT user_query, gpt_response FROM application_logs WHERE session_id = ? ORDER BY created_at', (session_id,))\n",
    "    messages = []\n",
    "    for row in cursor.fetchall():\n",
    "        messages.extend([\n",
    "            {\"role\": \"human\", \"content\": row['user_query']},\n",
    "            {\"role\": \"ai\", \"content\": row['gpt_response']}\n",
    "        ])\n",
    "    conn.close()\n",
    "    return messages\n",
    "\n",
    "# Initialize the database\n",
    "create_application_logs()"
   ],
   "id": "9b18de07ab967883"
  }
 ],
 "metadata": {
  "kernelspec": {
   "display_name": "Python 3",
   "language": "python",
   "name": "python3"
  },
  "language_info": {
   "codemirror_mode": {
    "name": "ipython",
    "version": 2
   },
   "file_extension": ".py",
   "mimetype": "text/x-python",
   "name": "python",
   "nbconvert_exporter": "python",
   "pygments_lexer": "ipython2",
   "version": "2.7.6"
  }
 },
 "nbformat": 4,
 "nbformat_minor": 5
}
