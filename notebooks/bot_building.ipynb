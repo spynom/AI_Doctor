{
 "cells": [
  {
   "metadata": {},
   "cell_type": "markdown",
   "source": "# Import Libraries",
   "id": "672f2e5b42718ff9"
  },
  {
   "cell_type": "code",
   "id": "initial_id",
   "metadata": {
    "collapsed": true,
    "ExecuteTime": {
     "end_time": "2024-11-17T08:47:05.424867Z",
     "start_time": "2024-11-17T08:47:05.417356Z"
    }
   },
   "source": [
    "from langchain_community.embeddings.sentence_transformer import SentenceTransformerEmbeddings\n",
    "from langchain_chroma import Chroma\n",
    "from langchain_core.prompts import MessagesPlaceholder\n",
    "from langchain.chains import create_history_aware_retriever\n",
    "from langchain_core.prompts import ChatPromptTemplate\n",
    "from langchain.chains.combine_documents import create_stuff_documents_chain\n",
    "from langchain.chains.retrieval import create_retrieval_chain\n",
    "from langchain_google_genai import (\n",
    "    ChatGoogleGenerativeAI,\n",
    "    HarmBlockThreshold,\n",
    "    HarmCategory,\n",
    ")\n",
    "import os\n",
    "from langchain.schema.runnable import RunnablePassthrough\n",
    "from langchain_core.output_parsers import StrOutputParser\n",
    "from dotenv import load_dotenv\n",
    "load_dotenv()"
   ],
   "outputs": [
    {
     "data": {
      "text/plain": [
       "True"
      ]
     },
     "execution_count": 12,
     "metadata": {},
     "output_type": "execute_result"
    }
   ],
   "execution_count": 12
  },
  {
   "metadata": {},
   "cell_type": "markdown",
   "source": "# LLM Model",
   "id": "4c705010b187c44b"
  },
  {
   "metadata": {
    "ExecuteTime": {
     "end_time": "2024-11-17T08:47:05.477670Z",
     "start_time": "2024-11-17T08:47:05.471473Z"
    }
   },
   "cell_type": "code",
   "source": [
    "llm = ChatGoogleGenerativeAI(\n",
    "    model=\"gemini-1.5-pro-latest\",\n",
    "    safety_settings={\n",
    "        HarmCategory.HARM_CATEGORY_DANGEROUS_CONTENT: HarmBlockThreshold.BLOCK_NONE,\n",
    "    },\n",
    ")"
   ],
   "id": "fd5fe17935ac0f00",
   "outputs": [],
   "execution_count": 13
  },
  {
   "metadata": {
    "ExecuteTime": {
     "end_time": "2024-11-17T08:47:08.342719Z",
     "start_time": "2024-11-17T08:47:05.521827Z"
    }
   },
   "cell_type": "code",
   "source": [
    "# testing\n",
    "llm.invoke(\"what is your name\")"
   ],
   "id": "1e4d126e5f63b961",
   "outputs": [
    {
     "data": {
      "text/plain": [
       "AIMessage(content=\"I am a large language model, trained by Google.  I don't have a name.\\n\", additional_kwargs={}, response_metadata={'prompt_feedback': {'block_reason': 0, 'safety_ratings': []}, 'finish_reason': 'STOP', 'safety_ratings': []}, id='run-fcf1299a-17b3-4c67-9de6-387dea711e96-0', usage_metadata={'input_tokens': 5, 'output_tokens': 21, 'total_tokens': 26, 'input_token_details': {'cache_read': 0}})"
      ]
     },
     "execution_count": 14,
     "metadata": {},
     "output_type": "execute_result"
    }
   ],
   "execution_count": 14
  },
  {
   "metadata": {},
   "cell_type": "markdown",
   "source": "# Retriever",
   "id": "e78bf7b6194d99e0"
  },
  {
   "metadata": {
    "ExecuteTime": {
     "end_time": "2024-11-17T08:47:10.986220Z",
     "start_time": "2024-11-17T08:47:08.355447Z"
    }
   },
   "cell_type": "code",
   "source": [
    "model_name = \"all-MiniLM-L6-v2\"\n",
    "embeddings = SentenceTransformerEmbeddings(model_name=model_name)\n",
    "vector_store = Chroma(\n",
    "    collection_name=\"example_collection\",\n",
    "    embedding_function=embeddings,\n",
    "    persist_directory=\"../chroma_langchain_db\",\n",
    ")\n",
    "vector_store.similarity_search(\"when to eat salad\",k=3)"
   ],
   "id": "2d89b1b6f1459317",
   "outputs": [
    {
     "data": {
      "text/plain": [
       "[Document(metadata={'head': 'Healthy Recipes', 'source': 'https://www.everydayhealth.com/diet-nutrition/meal-prep-tips-every-beginner-should-know/', 'title': '_Meal_Prep_Tips_Every_Beginner_Should_Know'}, page_content='1. Make a Plan and Prep ScheduleOne of the best ways to meal prep is to set aside an hour or two every week to draft a meal plan and build your shopping list. Mia Syn, MS, RDN, the owner of\\xa0Nutrition by Mia\\xa0in Charleston, South Carolina, recommends penciling it into your calendar and treating it as a priority — just as you would an important date or work meeting.Additionally, Palinski-Wade suggests allocating separate time for post-shopping prep — whether that’s simply cutting vegetables into snack-ready slices, or cooking whole batch-style freezer meals. Find what works for you and stick to it, and over time you’ll create a good habit that’s second nature.'),\n",
       " Document(metadata={'head': 'Healthy Recipes', 'source': 'https://www.everydayhealth.com/diet-nutrition/meal-planning/', 'title': 'Meal_Planning__A_Complete_Beginners_Guide_to_Meal_Prep'}, page_content='Prep AheadYou may be able to put together meals faster during the week by doing some of the work in advance. How long you spend doing prep work is up to you and your schedule, but here are a few food items you can start with.Fruits and Vegetables Turoff recommends prepping produce as soon as you get home from the grocery store. “Wash it, cut it, and put it in containers so it’s ready to go. That way, when the week gets crazy, it’s one less thing you have to do,” she says. Chopped fruits and vegetables are great for adding to salads, stir-fries, and fajitas, or on their own as a quick snack, with or without condiments and dips.Whole Grains\\xa0“I love preparing whole grains ahead of time that can be used in a variety of dishes,” Simon says. Throw together a batch of brown rice or farro, then use it in a handful of your recipes for the week. For example, have a farro salad for lunch or on the side with salmon.Meat and Meat Alternatives. Cooking meat and meat alternatives (like tofu or bean burgers) can be time-consuming. So save this task for a day when you don’t have a crammed schedule. Cook large batches so you have enough for multiple meals; freeze anything you won’t eat that week.RELATED: 10 Meal Prep Tips Every Beginner Should Follow'),\n",
       " Document(metadata={'head': 'Diet Types', 'source': 'https://www.everydayhealth.com/diet-nutrition/ayurvedic-diet/guide/', 'title': 'What_Is_an_Ayurvedic_Diet_A_Detailed_Scientific_Guide_to_Cooking_and_Eating_According_to_Ayurveda'}, page_content=\"Tips for Getting Started With an Ayurvedic DietWith all these guidelines, you may be wondering how to start, and how to remember everything you need to do. The good news is that it's simpler than you might think. Here are some general tips.Stock Up On Fresh FoodsPurchase more fresh, in-season foods at the grocery store, following this\\xa0U.S. Department of Agriculture guide. A farmer’s market can make it easy by providing plenty of locally grown options. “When buying food, ask yourself: ‘How can I get as close to fresh and unprocessed as possible, and focus on seasonal ingredients?’” says Plumb. This process can be joyful as you speak to farmers or local purveyors, which can also reinforce your sense of community around eating, she says.Eat 3 Meals per DayReduce or eliminate snacking. This give your body enough time to digest the food you ate at the previous meal, rather than overloading your digestive system. Per ayurvedic diet principles, you might eat a small breakfast, followed by a bigger lunch, and a light dinner. Aim to eat an early dinner (at least three hours before bed) and then close the kitchen.Many people find they benefit from following the two principles above, says Weis-Bohlen. “You might find that that’s all you need to do,” she says. With an ayurvedic diet, “you can hit on the surface or go deeper.” If you want to do more, follow these next steps.Discover Your DoshaYou might be able to guess your constitution just by looking at the descriptors, but Weis-Bohlen recommends taking a dosha quiz or working with a certified ayurvedic practitioner. She recommends the quiz on Banyan Botanicals's site as a starting point.Learn About What Fuel Your Dosha NeedsIt’s all about helping to bring your body into balance, and you might do that by choosing foods that counteract imbalances in your dosha. Books on the ayurvedic diet can help you dive more deeply into this. LifeSpa’s website also offers guidance on how to balance a diet for each dosha: vata, pitta, and kapha.\")]"
      ]
     },
     "execution_count": 15,
     "metadata": {},
     "output_type": "execute_result"
    }
   ],
   "execution_count": 15
  },
  {
   "metadata": {
    "ExecuteTime": {
     "end_time": "2024-11-17T08:47:11.003044Z",
     "start_time": "2024-11-17T08:47:11.000081Z"
    }
   },
   "cell_type": "code",
   "source": "retriever = vector_store.as_retriever(search_kwargs={\"k\": 2})",
   "id": "c4be384a01af950f",
   "outputs": [],
   "execution_count": 16
  },
  {
   "metadata": {
    "ExecuteTime": {
     "end_time": "2024-11-17T08:47:11.040907Z",
     "start_time": "2024-11-17T08:47:11.038013Z"
    }
   },
   "cell_type": "code",
   "source": [
    "def docs2str(docs):\n",
    "    return \"\\n\\n\".join(doc.page_content for doc in docs)"
   ],
   "id": "5fedd0a2191b2bab",
   "outputs": [],
   "execution_count": 17
  },
  {
   "metadata": {},
   "cell_type": "markdown",
   "source": "# History Aware Chat Prompt Template",
   "id": "35cf7c8794fcdfa7"
  },
  {
   "metadata": {
    "ExecuteTime": {
     "end_time": "2024-11-17T08:47:11.089136Z",
     "start_time": "2024-11-17T08:47:11.085540Z"
    }
   },
   "cell_type": "code",
   "source": [
    "contextualize_q_system_prompt = \"\"\"\n",
    "Given a chat history and the latest user question\n",
    "which might reference context in the chat history,\n",
    "formulate a standalone question which can be understood\n",
    "without the chat history. Do NOT answer the question,\n",
    "just reformulate it if needed and otherwise return it as is.\n",
    "\"\"\"\n",
    "\n",
    "contextualize_q_prompt = ChatPromptTemplate.from_messages(\n",
    "    [\n",
    "        (\"system\", contextualize_q_system_prompt),\n",
    "        MessagesPlaceholder(\"chat_history\"),\n",
    "        (\"human\", \"{input}\"),\n",
    "    ]\n",
    ")\n",
    "\n",
    "history_aware_retriever = create_history_aware_retriever(\n",
    "    llm, retriever, contextualize_q_prompt\n",
    ")"
   ],
   "id": "b83660923ab8170",
   "outputs": [],
   "execution_count": 18
  },
  {
   "metadata": {
    "ExecuteTime": {
     "end_time": "2024-11-17T08:47:11.135331Z",
     "start_time": "2024-11-17T08:47:11.132595Z"
    }
   },
   "cell_type": "code",
   "source": [
    "from langchain_core.messages import HumanMessage, AIMessage\n",
    "chat_history = []"
   ],
   "id": "88a8951835ac5fec",
   "outputs": [],
   "execution_count": 19
  },
  {
   "metadata": {
    "ExecuteTime": {
     "end_time": "2024-11-17T08:47:11.183617Z",
     "start_time": "2024-11-17T08:47:11.179184Z"
    }
   },
   "cell_type": "code",
   "source": [
    "system_prompt = (\n",
    "    \"You are an health doctor A.I who provide medical advices for queries. \"\n",
    "    \"communicate as a real doctor\"\n",
    "    \"Use the following pieces of retrieved context to answer \"\n",
    "    \"the question. If you don't know the answer, say that you \"\n",
    "    \"don't know. Use five sentences maximum and keep the \"\n",
    "    \"answer concise.\"\n",
    "    \"\\n\\n\"\n",
    "    \"{context}\"\n",
    ")\n",
    "qa_prompt = ChatPromptTemplate.from_messages(\n",
    "    [\n",
    "        (\"system\", system_prompt),\n",
    "        MessagesPlaceholder(\"chat_history\"),\n",
    "        (\"human\", \"{input}\"),\n",
    "    ]\n",
    ")\n",
    "question_answer_chain = create_stuff_documents_chain(llm, qa_prompt)\n",
    "\n",
    "rag_chain = create_retrieval_chain(history_aware_retriever, question_answer_chain)"
   ],
   "id": "7a59d2bfa0d4a2a9",
   "outputs": [],
   "execution_count": 20
  },
  {
   "metadata": {
    "ExecuteTime": {
     "end_time": "2024-11-17T08:47:13.690253Z",
     "start_time": "2024-11-17T08:47:11.230111Z"
    }
   },
   "cell_type": "code",
   "source": "rag_chain.invoke({\"input\":\"symptoms of brest cancer?\",\"chat_history\":chat_history,\"context\":history_aware_retriever})",
   "id": "16d7a491ed1830c5",
   "outputs": [
    {
     "data": {
      "text/plain": [
       "{'input': 'symptoms of brest cancer?',\n",
       " 'chat_history': [],\n",
       " 'context': [Document(metadata={'head': '', 'source': 'https://www.everydayhealth.com/breast-cancer/metastatic-breast-cancer/guide/', 'title': 'What_Is_Metastatic_Breast_Cancer_Symptoms_Causes_Treatments_and_More'}, page_content='Symptoms of breast cancer that has spread to the bones include:Bones are easily broken or fracturedBone painSwellingSymptoms of breast cancer that has spread to the brain include:Changes in behaviorIssues with memoryNausea or vomitingPersistent headaches\\xa0SeizuresSpeech or vision issuesSymptoms of breast cancer that has spread to the liver include:Abdominal painJaundice (yellowing of the skin or whites of the eyes)Nausea or vomitingRash or itchy skinHigh liver enzymes in the bloodSymptoms of breast cancer that has spread to the lungs include:Pain in the chestPersistent coughShortness of breath'),\n",
       "  Document(metadata={'head': '', 'source': 'https://www.everydayhealth.com/breast-cancer/what-is-triple-negative-breast-cancer/', 'title': 'What_Is_TripleNegative_Breast_Cancer'}, page_content='What Are the Symptoms of Triple-Negative Breast Cancer?The symptoms of triple-negative breast cancer are the same as those of other types of breast cancer, and include:A lump or massSwelling of the breastBreast or nipple painNipple retraction (where the nipple turns inward)Skin dimplingNipple or breast skin that’s red, dry, flaky, or thickNipple dischargeSwollen lymph nodes[6]')],\n",
       " 'answer': 'Breast cancer symptoms can include a lump or mass, swelling of the breast, breast or nipple pain, and nipple retraction (turning inward).  Skin dimpling, red/dry/flaky/thick nipple or breast skin, nipple discharge, and swollen lymph nodes are also possible signs. If you experience any of these, consult a doctor promptly for proper evaluation. Early detection is crucial for successful breast cancer treatment.\\n'}"
      ]
     },
     "execution_count": 21,
     "metadata": {},
     "output_type": "execute_result"
    }
   ],
   "execution_count": 21
  },
  {
   "metadata": {
    "ExecuteTime": {
     "end_time": "2024-11-17T08:47:26.924889Z",
     "start_time": "2024-11-17T08:47:13.759917Z"
    }
   },
   "cell_type": "code",
   "source": [
    "from langchain_core.messages import HumanMessage, AIMessage\n",
    "while True:\n",
    "    question = input()\n",
    "    answer = rag_chain.invoke({\"input\": question, \"chat_history\": chat_history})['answer']\n",
    "    chat_history.extend([\n",
    "    HumanMessage(content=question),\n",
    "    AIMessage(content=answer)\n",
    "    ])\n",
    "    \n",
    "    print(f\"Human: {question}\")\n",
    "    print(f\"AI: {answer}\\n\")"
   ],
   "id": "21c4ee7c47f06b6d",
   "outputs": [
    {
     "name": "stdout",
     "output_type": "stream",
     "text": [
      "Human: hey doctor\n",
      "AI: Hello!  How can I help you today? Please tell me about any symptoms or concerns you have.  I can offer information and advice, but remember I can't provide a diagnosis or prescribe medication.  It's important to see a doctor in person for personalized care.\n",
      "\n",
      "\n"
     ]
    },
    {
     "ename": "KeyboardInterrupt",
     "evalue": "Interrupted by user",
     "output_type": "error",
     "traceback": [
      "\u001B[0;31m---------------------------------------------------------------------------\u001B[0m",
      "\u001B[0;31mKeyboardInterrupt\u001B[0m                         Traceback (most recent call last)",
      "Cell \u001B[0;32mIn[22], line 3\u001B[0m\n\u001B[1;32m      1\u001B[0m \u001B[38;5;28;01mfrom\u001B[39;00m \u001B[38;5;21;01mlangchain_core\u001B[39;00m\u001B[38;5;21;01m.\u001B[39;00m\u001B[38;5;21;01mmessages\u001B[39;00m \u001B[38;5;28;01mimport\u001B[39;00m HumanMessage, AIMessage\n\u001B[1;32m      2\u001B[0m \u001B[38;5;28;01mwhile\u001B[39;00m \u001B[38;5;28;01mTrue\u001B[39;00m:\n\u001B[0;32m----> 3\u001B[0m     question \u001B[38;5;241m=\u001B[39m \u001B[38;5;28;43minput\u001B[39;49m\u001B[43m(\u001B[49m\u001B[43m)\u001B[49m\n\u001B[1;32m      4\u001B[0m     answer \u001B[38;5;241m=\u001B[39m rag_chain\u001B[38;5;241m.\u001B[39minvoke({\u001B[38;5;124m\"\u001B[39m\u001B[38;5;124minput\u001B[39m\u001B[38;5;124m\"\u001B[39m: question, \u001B[38;5;124m\"\u001B[39m\u001B[38;5;124mchat_history\u001B[39m\u001B[38;5;124m\"\u001B[39m: chat_history})[\u001B[38;5;124m'\u001B[39m\u001B[38;5;124manswer\u001B[39m\u001B[38;5;124m'\u001B[39m]\n\u001B[1;32m      5\u001B[0m     chat_history\u001B[38;5;241m.\u001B[39mextend([\n\u001B[1;32m      6\u001B[0m     HumanMessage(content\u001B[38;5;241m=\u001B[39mquestion),\n\u001B[1;32m      7\u001B[0m     AIMessage(content\u001B[38;5;241m=\u001B[39manswer)\n\u001B[1;32m      8\u001B[0m     ])\n",
      "File \u001B[0;32m~/generative_ai/langchain/venv/lib/python3.10/site-packages/ipykernel/kernelbase.py:1282\u001B[0m, in \u001B[0;36mKernel.raw_input\u001B[0;34m(self, prompt)\u001B[0m\n\u001B[1;32m   1280\u001B[0m     msg \u001B[38;5;241m=\u001B[39m \u001B[38;5;124m\"\u001B[39m\u001B[38;5;124mraw_input was called, but this frontend does not support input requests.\u001B[39m\u001B[38;5;124m\"\u001B[39m\n\u001B[1;32m   1281\u001B[0m     \u001B[38;5;28;01mraise\u001B[39;00m StdinNotImplementedError(msg)\n\u001B[0;32m-> 1282\u001B[0m \u001B[38;5;28;01mreturn\u001B[39;00m \u001B[38;5;28;43mself\u001B[39;49m\u001B[38;5;241;43m.\u001B[39;49m\u001B[43m_input_request\u001B[49m\u001B[43m(\u001B[49m\n\u001B[1;32m   1283\u001B[0m \u001B[43m    \u001B[49m\u001B[38;5;28;43mstr\u001B[39;49m\u001B[43m(\u001B[49m\u001B[43mprompt\u001B[49m\u001B[43m)\u001B[49m\u001B[43m,\u001B[49m\n\u001B[1;32m   1284\u001B[0m \u001B[43m    \u001B[49m\u001B[38;5;28;43mself\u001B[39;49m\u001B[38;5;241;43m.\u001B[39;49m\u001B[43m_parent_ident\u001B[49m\u001B[43m[\u001B[49m\u001B[38;5;124;43m\"\u001B[39;49m\u001B[38;5;124;43mshell\u001B[39;49m\u001B[38;5;124;43m\"\u001B[39;49m\u001B[43m]\u001B[49m\u001B[43m,\u001B[49m\n\u001B[1;32m   1285\u001B[0m \u001B[43m    \u001B[49m\u001B[38;5;28;43mself\u001B[39;49m\u001B[38;5;241;43m.\u001B[39;49m\u001B[43mget_parent\u001B[49m\u001B[43m(\u001B[49m\u001B[38;5;124;43m\"\u001B[39;49m\u001B[38;5;124;43mshell\u001B[39;49m\u001B[38;5;124;43m\"\u001B[39;49m\u001B[43m)\u001B[49m\u001B[43m,\u001B[49m\n\u001B[1;32m   1286\u001B[0m \u001B[43m    \u001B[49m\u001B[43mpassword\u001B[49m\u001B[38;5;241;43m=\u001B[39;49m\u001B[38;5;28;43;01mFalse\u001B[39;49;00m\u001B[43m,\u001B[49m\n\u001B[1;32m   1287\u001B[0m \u001B[43m\u001B[49m\u001B[43m)\u001B[49m\n",
      "File \u001B[0;32m~/generative_ai/langchain/venv/lib/python3.10/site-packages/ipykernel/kernelbase.py:1325\u001B[0m, in \u001B[0;36mKernel._input_request\u001B[0;34m(self, prompt, ident, parent, password)\u001B[0m\n\u001B[1;32m   1322\u001B[0m \u001B[38;5;28;01mexcept\u001B[39;00m \u001B[38;5;167;01mKeyboardInterrupt\u001B[39;00m:\n\u001B[1;32m   1323\u001B[0m     \u001B[38;5;66;03m# re-raise KeyboardInterrupt, to truncate traceback\u001B[39;00m\n\u001B[1;32m   1324\u001B[0m     msg \u001B[38;5;241m=\u001B[39m \u001B[38;5;124m\"\u001B[39m\u001B[38;5;124mInterrupted by user\u001B[39m\u001B[38;5;124m\"\u001B[39m\n\u001B[0;32m-> 1325\u001B[0m     \u001B[38;5;28;01mraise\u001B[39;00m \u001B[38;5;167;01mKeyboardInterrupt\u001B[39;00m(msg) \u001B[38;5;28;01mfrom\u001B[39;00m \u001B[38;5;28;01mNone\u001B[39;00m\n\u001B[1;32m   1326\u001B[0m \u001B[38;5;28;01mexcept\u001B[39;00m \u001B[38;5;167;01mException\u001B[39;00m:\n\u001B[1;32m   1327\u001B[0m     \u001B[38;5;28mself\u001B[39m\u001B[38;5;241m.\u001B[39mlog\u001B[38;5;241m.\u001B[39mwarning(\u001B[38;5;124m\"\u001B[39m\u001B[38;5;124mInvalid Message:\u001B[39m\u001B[38;5;124m\"\u001B[39m, exc_info\u001B[38;5;241m=\u001B[39m\u001B[38;5;28;01mTrue\u001B[39;00m)\n",
      "\u001B[0;31mKeyboardInterrupt\u001B[0m: Interrupted by user"
     ]
    }
   ],
   "execution_count": 22
  },
  {
   "metadata": {},
   "cell_type": "code",
   "outputs": [],
   "execution_count": null,
   "source": [
    "import sqlite3\n",
    "from datetime import datetime\n",
    "import uuid\n",
    "\n",
    "DB_NAME = \"rag_app.db\"\n",
    "\n",
    "def get_db_connection():\n",
    "    conn = sqlite3.connect(DB_NAME)\n",
    "    conn.row_factory = sqlite3.Row\n",
    "    return conn\n",
    "\n",
    "def create_application_logs():\n",
    "    conn = get_db_connection()\n",
    "    conn.execute('''CREATE TABLE IF NOT EXISTS application_logs\n",
    "    (id INTEGER PRIMARY KEY AUTOINCREMENT,\n",
    "    session_id TEXT,\n",
    "    user_query TEXT,\n",
    "    gpt_response TEXT,\n",
    "    model TEXT,\n",
    "    created_at TIMESTAMP DEFAULT CURRENT_TIMESTAMP)''')\n",
    "    conn.close()\n",
    "\n",
    "def insert_application_logs(session_id, user_query, gpt_response, model):\n",
    "    conn = get_db_connection()\n",
    "    conn.execute('INSERT INTO application_logs (session_id, user_query, gpt_response, model) VALUES (?, ?, ?, ?)',\n",
    "                 (session_id, user_query, gpt_response, model))\n",
    "    conn.commit()\n",
    "    conn.close()\n",
    "\n",
    "def get_chat_history(session_id):\n",
    "    conn = get_db_connection()\n",
    "    cursor = conn.cursor()\n",
    "    cursor.execute('SELECT user_query, gpt_response FROM application_logs WHERE session_id = ? ORDER BY created_at', (session_id,))\n",
    "    messages = []\n",
    "    for row in cursor.fetchall():\n",
    "        messages.extend([\n",
    "            {\"role\": \"human\", \"content\": row['user_query']},\n",
    "            {\"role\": \"ai\", \"content\": row['gpt_response']}\n",
    "        ])\n",
    "    conn.close()\n",
    "    return messages\n",
    "\n",
    "# Initialize the database\n",
    "create_application_logs()"
   ],
   "id": "9b18de07ab967883"
  }
 ],
 "metadata": {
  "kernelspec": {
   "display_name": "Python 3",
   "language": "python",
   "name": "python3"
  },
  "language_info": {
   "codemirror_mode": {
    "name": "ipython",
    "version": 2
   },
   "file_extension": ".py",
   "mimetype": "text/x-python",
   "name": "python",
   "nbconvert_exporter": "python",
   "pygments_lexer": "ipython2",
   "version": "2.7.6"
  }
 },
 "nbformat": 4,
 "nbformat_minor": 5
}
