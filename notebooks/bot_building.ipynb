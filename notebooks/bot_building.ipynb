{
 "cells": [
  {
   "metadata": {},
   "cell_type": "markdown",
   "source": "# Import Libraries",
   "id": "672f2e5b42718ff9"
  },
  {
   "cell_type": "code",
   "id": "initial_id",
   "metadata": {
    "collapsed": true,
    "ExecuteTime": {
     "end_time": "2024-11-21T17:14:31.299885Z",
     "start_time": "2024-11-21T17:14:29.911993Z"
    }
   },
   "source": [
    "from langchain_community.embeddings.sentence_transformer import SentenceTransformerEmbeddings\n",
    "from langchain_mongodb import MongoDBAtlasVectorSearch\n",
    "from pymongo import MongoClient\n",
    "from langchain_core.prompts import MessagesPlaceholder\n",
    "from langchain.chains import create_history_aware_retriever\n",
    "from langchain_core.prompts import ChatPromptTemplate\n",
    "from langchain.chains.combine_documents import create_stuff_documents_chain\n",
    "from langchain.chains.retrieval import create_retrieval_chain\n",
    "from langchain_google_genai import (\n",
    "    ChatGoogleGenerativeAI,\n",
    "    HarmBlockThreshold,\n",
    "    HarmCategory,\n",
    ")\n",
    "import os\n",
    "from langchain.schema.runnable import RunnablePassthrough\n",
    "from langchain_core.output_parsers import StrOutputParser\n",
    "from dotenv import load_dotenv\n",
    "load_dotenv()"
   ],
   "outputs": [
    {
     "data": {
      "text/plain": [
       "True"
      ]
     },
     "execution_count": 1,
     "metadata": {},
     "output_type": "execute_result"
    }
   ],
   "execution_count": 1
  },
  {
   "metadata": {},
   "cell_type": "markdown",
   "source": "# LLM Model",
   "id": "4c705010b187c44b"
  },
  {
   "metadata": {
    "ExecuteTime": {
     "end_time": "2024-11-21T17:14:31.346217Z",
     "start_time": "2024-11-21T17:14:31.327860Z"
    }
   },
   "cell_type": "code",
   "source": [
    "llm = ChatGoogleGenerativeAI(\n",
    "    model=\"gemini-1.5-pro-latest\",\n",
    "    safety_settings={\n",
    "        HarmCategory.HARM_CATEGORY_DANGEROUS_CONTENT: HarmBlockThreshold.BLOCK_NONE,\n",
    "    },\n",
    ")"
   ],
   "id": "fd5fe17935ac0f00",
   "outputs": [],
   "execution_count": 2
  },
  {
   "metadata": {
    "ExecuteTime": {
     "end_time": "2024-11-21T17:14:34.038550Z",
     "start_time": "2024-11-21T17:14:31.488444Z"
    }
   },
   "cell_type": "code",
   "source": [
    "# testing\n",
    "llm.invoke(\"what is your name\")"
   ],
   "id": "1e4d126e5f63b961",
   "outputs": [
    {
     "data": {
      "text/plain": [
       "AIMessage(content=\"I am a large language model, trained by Google.  I don't have a name.\\n\", additional_kwargs={}, response_metadata={'prompt_feedback': {'block_reason': 0, 'safety_ratings': []}, 'finish_reason': 'STOP', 'safety_ratings': []}, id='run-7a68c6c0-d2cb-486c-b1c3-18f9131f9646-0', usage_metadata={'input_tokens': 5, 'output_tokens': 21, 'total_tokens': 26, 'input_token_details': {'cache_read': 0}})"
      ]
     },
     "execution_count": 3,
     "metadata": {},
     "output_type": "execute_result"
    }
   ],
   "execution_count": 3
  },
  {
   "metadata": {},
   "cell_type": "markdown",
   "source": "# Retriever",
   "id": "e78bf7b6194d99e0"
  },
  {
   "metadata": {
    "ExecuteTime": {
     "end_time": "2024-11-21T17:14:34.054982Z",
     "start_time": "2024-11-21T17:14:34.051083Z"
    }
   },
   "cell_type": "code",
   "source": [
    "def vector_store(model_name,embedding_dim,cluster_uri,db_name,collection_name):\n",
    "    embeddings = SentenceTransformerEmbeddings(model_name=model_name)\n",
    "\n",
    "    # initialize MongoDB python client\n",
    "    client = MongoClient(cluster_uri)\n",
    "    ATLAS_VECTOR_SEARCH_INDEX_NAME = \"langchain-test-index-vectorstores\"\n",
    "\n",
    "    MONGODB_COLLECTION = client[db_name][collection_name]\n",
    "\n",
    "    vector_store = MongoDBAtlasVectorSearch(\n",
    "        collection=MONGODB_COLLECTION,\n",
    "        embedding=embeddings,\n",
    "        index_name=ATLAS_VECTOR_SEARCH_INDEX_NAME,\n",
    "        relevance_score_fn=\"cosine\",\n",
    "    )\n",
    "\n",
    "    # Create vector search index on the collection\n",
    "    # Since we are using the default OpenAI embedding model (ada-v2) we need to specify the dimensions as 1536\n",
    "    #vector_store.create_vector_search_index(dimensions=embedding_dim)\n",
    "\n",
    "    return vector_store"
   ],
   "id": "d7036063b94d557d",
   "outputs": [],
   "execution_count": 4
  },
  {
   "metadata": {
    "ExecuteTime": {
     "end_time": "2024-11-21T17:14:34.097846Z",
     "start_time": "2024-11-21T17:14:34.094697Z"
    }
   },
   "cell_type": "code",
   "source": [
    "model_name = \"all-MiniLM-L6-v2\"\n",
    "embedding_dim = 384\n",
    "cluster_uri =os.getenv(\"CLUSTER_URL\")\n",
    "db_name = \"langchain\"\n",
    "collection_name = \"vector\"\n"
   ],
   "id": "2d89b1b6f1459317",
   "outputs": [],
   "execution_count": 5
  },
  {
   "metadata": {
    "ExecuteTime": {
     "end_time": "2024-11-21T17:14:41.578973Z",
     "start_time": "2024-11-21T17:14:34.149049Z"
    }
   },
   "cell_type": "code",
   "source": [
    "vector_store = vector_store(model_name=model_name,embedding_dim=embedding_dim,cluster_uri=cluster_uri,db_name=db_name,collection_name=collection_name)\n",
    "vector_store.similarity_search(\"when to eat salad\",k=3)"
   ],
   "id": "24cc5b5426eeac56",
   "outputs": [
    {
     "name": "stderr",
     "output_type": "stream",
     "text": [
      "/tmp/ipykernel_62017/1194541438.py:2: LangChainDeprecationWarning: The class `HuggingFaceEmbeddings` was deprecated in LangChain 0.2.2 and will be removed in 1.0. An updated version of the class exists in the :class:`~langchain-huggingface package and should be used instead. To use it run `pip install -U :class:`~langchain-huggingface` and import as `from :class:`~langchain_huggingface import HuggingFaceEmbeddings``.\n",
      "  embeddings = SentenceTransformerEmbeddings(model_name=model_name)\n"
     ]
    },
    {
     "data": {
      "text/plain": [
       "[Document(metadata={'_id': 'd3e3bfe9-edf9-4e04-a3dc-84999f759dde', 'source': 'https://www.everydayhealth.com/diet-nutrition-pictures/best-salad-greens-for-your-health.aspx', 'head': 'Healthy Recipes', 'title': 'Ranking_14_Top_Salad_Greens_From_Best_to_Worst'}, page_content='9. RomainePortion:\\xa01 cup shreddedCalories:\\xa05Carbs:\\xa01 gFiber:\\xa00.05 gProtein:\\xa00.05 gWhy It’s Healthy\\xa0Romaine lettuce’s dark green color, long leaves, and crunchy texture make it a very popular salad base. Two cups of romaine bring about 30 percent of your daily vitamin A, and nearly three-quarters of your vitamin K.[18]Meal Prep Inspo“Romaine lettuce has a great crunch and is delicious served in a salad or on top of a sandwich,” says Kennedy. “Romaine can even be lightly grilled for a unique, slightly charred flavor.”To boost the nutritional value of your salad, mix romaine with some spinach or kale to pack in more antioxidants, or opt for a premixed blend. “Prepackaged salad green mixtures offer a wide variety of nutrients without you having to buy large quantities of each type of green,” says Kennedy. Tossing your salad greens with a small amount of healthy oil is also a great idea, as the oil adds a dose of healthy fat (and flavor) and can also improve your body’s absorption of fat-soluble vitamins from the salad, she adds.'),\n",
       " Document(metadata={'_id': '48f0a6c6-136c-4805-a1c5-06ac1020c067', 'source': 'https://www.everydayhealth.com/diet-nutrition/meal-prep-tips-every-beginner-should-know/', 'head': 'Healthy Recipes', 'title': '10_Meal_Prep_Tips_Every_Beginner_Should_Know'}, page_content='1. Make a Plan and Prep ScheduleOne of the best ways to meal prep is to set aside an hour or two every week to draft a meal plan and build your shopping list. Mia Syn, MS, RDN, the owner of\\xa0Nutrition by Mia\\xa0in Charleston, South Carolina, recommends penciling it into your calendar and treating it as a priority — just as you would an important date or work meeting.Additionally, Palinski-Wade suggests allocating separate time for post-shopping prep — whether that’s simply cutting vegetables into snack-ready slices, or cooking whole batch-style freezer meals. Find what works for you and stick to it, and over time you’ll create a good habit that’s second nature.'),\n",
       " Document(metadata={'_id': '93278556-0cdf-4384-a496-c33e69aafeb7', 'source': 'https://www.everydayhealth.com/diet-nutrition/longevity-diet/', 'head': 'Diet Types', 'title': 'What_Is_the_Longevity_Diet?_A_Detailed_Beginner’s_Guide'}, page_content=\"5 Beginner Tips for Starting the Longevity DietIf you aren't used to eating generous amounts of vegetables, this style of eating may be a big change. In addition to working with a registered dietitian-nutritionist, here's some advice for transitioning to the longevity diet.1. Take Baby StepsIf you’re having a hard time switching up your diet and eating more fruits and vegetables, keep your diet the same but move forward with eating in a 12-hour window, says Longo. That could be between 7 a.m. and 7 p.m. or 8 a.m. and 8 p.m., but don’t forget to eat breakfast!2. Test-Drive New Foods“Try eating a vegetable you’ve never had before at your dining spot, or venture out to an ethnic restaurant known for its vegetables,” says Palumbo. She suggests, for example, ordering a bowl of minestrone soup or pasta fagioli at an Italian restaurant, then trying to cook it at home. At a Greek restaurant, try ordering their horta, which is sautéed greens, or select the sautéed spinach, both served with lemon juice and extra-virgin olive oil, then make these at home, too.This tip can apply to all foods on the longevity diet, really. “You can go slow so that your taste buds have time to adapt, and learn to love the foods that love you back,” says Katz.3. Gradually Cut Back on Processed Foods to Reduce Your Reliance on Them“Then,” suggests Palumbo, “get back into the kitchen and explore some new recipes by following along with cooking instructors on YouTube, TikTok, or their own websites.” She also recommends setting a goal to cook one new recipe a week and come up with a repertoire of new recipes that you enjoy over time.4. Check Out Ingredient Lists on Packaged FoodsWhen in the grocery store, take time to read the ingredient lists on some of your favorite processed foods, says Palumbo. “Once you realize how many additives there are, you may be convinced to reduce your reliance on them and begin controlling your own ingredient lists by cooking more,” Palumbo says.5. Figure Out if You Have Food Allergies or SensitivitiesThe rules for the longevity diet may come off as rigid, but there’s a level of customization you can work with.That will be important if you’re managing a health condition such as celiac disease and can’t eat whole grains, which the diet calls for, for example.Make an appointment with a doctor or registered dietitian if you’re concerned about a food allergy or intolerance that would make following the longevity diet framework problematic for your health. Again, it's important to work with a professional for the fasting-mimicking portion of this diet.\")]"
      ]
     },
     "execution_count": 6,
     "metadata": {},
     "output_type": "execute_result"
    }
   ],
   "execution_count": 6
  },
  {
   "metadata": {
    "ExecuteTime": {
     "end_time": "2024-11-21T17:14:41.656473Z",
     "start_time": "2024-11-21T17:14:41.652781Z"
    }
   },
   "cell_type": "code",
   "source": "retriever = vector_store.as_retriever(search_kwargs={\"k\": 2})",
   "id": "c4be384a01af950f",
   "outputs": [],
   "execution_count": 7
  },
  {
   "metadata": {
    "ExecuteTime": {
     "end_time": "2024-11-21T17:14:41.705075Z",
     "start_time": "2024-11-21T17:14:41.701981Z"
    }
   },
   "cell_type": "code",
   "source": [
    "def docs2str(docs):\n",
    "    return \"\\n\\n\".join(doc.page_content for doc in docs)"
   ],
   "id": "5fedd0a2191b2bab",
   "outputs": [],
   "execution_count": 8
  },
  {
   "metadata": {},
   "cell_type": "markdown",
   "source": "# History Aware Chat Prompt Template",
   "id": "35cf7c8794fcdfa7"
  },
  {
   "metadata": {
    "ExecuteTime": {
     "end_time": "2024-11-21T17:14:41.763282Z",
     "start_time": "2024-11-21T17:14:41.758024Z"
    }
   },
   "cell_type": "code",
   "source": [
    "contextualize_q_system_prompt = \"\"\"\n",
    "Given a chat history and the latest user question\n",
    "which might reference context in the chat history,\n",
    "formulate a standalone question which can be understood\n",
    "without the chat history. Do NOT answer the question,\n",
    "just reformulate it if needed and otherwise return it as is.\n",
    "\"\"\"\n",
    "\n",
    "contextualize_q_prompt = ChatPromptTemplate.from_messages(\n",
    "    [\n",
    "        (\"system\", contextualize_q_system_prompt),\n",
    "        MessagesPlaceholder(\"chat_history\"),\n",
    "        (\"human\", \"{input}\"),\n",
    "    ]\n",
    ")\n",
    "\n",
    "history_aware_retriever = create_history_aware_retriever(\n",
    "    llm, retriever, contextualize_q_prompt\n",
    ")"
   ],
   "id": "b83660923ab8170",
   "outputs": [],
   "execution_count": 9
  },
  {
   "metadata": {
    "ExecuteTime": {
     "end_time": "2024-11-21T17:14:41.804538Z",
     "start_time": "2024-11-21T17:14:41.800883Z"
    }
   },
   "cell_type": "code",
   "source": [
    "from langchain_core.messages import HumanMessage, AIMessage\n",
    "chat_history = [\n",
    "    {\"role\": \"human\", \"content\": \"i have mole on my brest\"},\n",
    "                {\"role\": \"ai\", \"content\": \"can you provide more details\"}\n",
    "]"
   ],
   "id": "88a8951835ac5fec",
   "outputs": [],
   "execution_count": 10
  },
  {
   "metadata": {
    "ExecuteTime": {
     "end_time": "2024-11-21T17:14:41.856383Z",
     "start_time": "2024-11-21T17:14:41.850015Z"
    }
   },
   "cell_type": "code",
   "source": [
    "system_prompt = (\n",
    "    \"You are an health doctor A.I who provide medical advices for queries. \"\n",
    "    \"communicate as a real doctor\"\n",
    "    \"Use the following pieces of retrieved context to answer \"\n",
    "    \"the question. If you don't know the answer, say that you \"\n",
    "    \"don't know. Use five sentences maximum and keep the \"\n",
    "    \"answer concise.\"\n",
    "    \"\\n\\n\"\n",
    "    \"{context}\"\n",
    ")\n",
    "qa_prompt = ChatPromptTemplate.from_messages(\n",
    "    [\n",
    "        (\"system\", system_prompt),\n",
    "        MessagesPlaceholder(\"chat_history\"),\n",
    "        (\"human\", \"{input}\"),\n",
    "    ]\n",
    ")\n",
    "question_answer_chain = create_stuff_documents_chain(llm, qa_prompt)\n",
    "\n",
    "rag_chain = create_retrieval_chain(history_aware_retriever, question_answer_chain)"
   ],
   "id": "7a59d2bfa0d4a2a9",
   "outputs": [],
   "execution_count": 11
  },
  {
   "metadata": {
    "ExecuteTime": {
     "end_time": "2024-11-21T17:14:45.632755Z",
     "start_time": "2024-11-21T17:14:41.901666Z"
    }
   },
   "cell_type": "code",
   "source": "response = rag_chain.invoke({\"input\":\"symptoms of brest cancer?\",\"chat_history\":chat_history,\"context\":history_aware_retriever})",
   "id": "16d7a491ed1830c5",
   "outputs": [],
   "execution_count": 12
  },
  {
   "metadata": {
    "ExecuteTime": {
     "end_time": "2024-11-21T17:14:45.652754Z",
     "start_time": "2024-11-21T17:14:45.647765Z"
    }
   },
   "cell_type": "code",
   "source": "response[\"answer\"]",
   "id": "f6325205df802550",
   "outputs": [
    {
     "data": {
      "text/plain": [
       "\"Breast cancer symptoms can include a lump in the breast or underarm, nipple changes (discharge, inversion, tenderness), skin changes (dimpling, redness, scaliness), and breast pain. However, many breast changes are not cancerous.  It's crucial to consult a healthcare professional for any breast concerns to ensure proper evaluation and diagnosis.  Early detection is key for successful treatment.\\n\""
      ]
     },
     "execution_count": 13,
     "metadata": {},
     "output_type": "execute_result"
    }
   ],
   "execution_count": 13
  },
  {
   "metadata": {
    "ExecuteTime": {
     "end_time": "2024-11-21T17:14:45.724967Z",
     "start_time": "2024-11-21T17:14:45.720940Z"
    }
   },
   "cell_type": "code",
   "source": "response[\"context\"][0].metadata",
   "id": "5f4b1483eaeb7f0e",
   "outputs": [
    {
     "data": {
      "text/plain": [
       "{'_id': '124b1da0-7f60-4286-be74-16ec1ac0ccc0',\n",
       " 'source': 'https://www.everydayhealth.com/breast-cancer/guide/',\n",
       " 'head': '',\n",
       " 'title': 'What_Is_Breast_Cancer?_Symptoms,_Causes,_Diagnosis,_Treatment,_and_Prevention'}"
      ]
     },
     "execution_count": 14,
     "metadata": {},
     "output_type": "execute_result"
    }
   ],
   "execution_count": 14
  },
  {
   "metadata": {
    "ExecuteTime": {
     "end_time": "2024-11-21T17:14:45.781080Z",
     "start_time": "2024-11-21T17:14:45.772905Z"
    }
   },
   "cell_type": "code",
   "source": [
    "import sqlite3\n",
    "from datetime import datetime\n",
    "import uuid\n",
    "\n",
    "DB_NAME = \"rag_app.db\"\n",
    "\n",
    "def get_db_connection():\n",
    "    conn = sqlite3.connect(DB_NAME)\n",
    "    conn.row_factory = sqlite3.Row\n",
    "    return conn\n",
    "\n",
    "def create_application_logs():\n",
    "    conn = get_db_connection()\n",
    "    conn.execute('''CREATE TABLE IF NOT EXISTS application_logs\n",
    "    (id INTEGER PRIMARY KEY AUTOINCREMENT,\n",
    "    session_id TEXT,\n",
    "    user_query TEXT,\n",
    "    gpt_response TEXT,\n",
    "    model TEXT,\n",
    "    created_at TIMESTAMP DEFAULT CURRENT_TIMESTAMP)''')\n",
    "    conn.close()\n",
    "\n",
    "def insert_application_logs(session_id, user_query, gpt_response, model):\n",
    "    conn = get_db_connection()\n",
    "    conn.execute('INSERT INTO application_logs (session_id, user_query, gpt_response, model) VALUES (?, ?, ?, ?)',\n",
    "                 (session_id, user_query, gpt_response, model))\n",
    "    conn.commit()\n",
    "    conn.close()\n",
    "\n",
    "def get_chat_history(session_id):\n",
    "    conn = get_db_connection()\n",
    "    cursor = conn.cursor()\n",
    "    cursor.execute('SELECT user_query, gpt_response FROM application_logs WHERE session_id = ? ORDER BY created_at', (session_id,))\n",
    "    messages = []\n",
    "    for row in cursor.fetchall():\n",
    "        messages.extend([\n",
    "            {\"role\": \"human\", \"content\": row['user_query']},\n",
    "            {\"role\": \"ai\", \"content\": row['gpt_response']}\n",
    "        ])\n",
    "    conn.close()\n",
    "    return messages\n",
    "\n",
    "# Initialize the database\n",
    "create_application_logs()"
   ],
   "id": "9b18de07ab967883",
   "outputs": [],
   "execution_count": 15
  }
 ],
 "metadata": {
  "kernelspec": {
   "display_name": "Python 3",
   "language": "python",
   "name": "python3"
  },
  "language_info": {
   "codemirror_mode": {
    "name": "ipython",
    "version": 2
   },
   "file_extension": ".py",
   "mimetype": "text/x-python",
   "name": "python",
   "nbconvert_exporter": "python",
   "pygments_lexer": "ipython2",
   "version": "2.7.6"
  }
 },
 "nbformat": 4,
 "nbformat_minor": 5
}
